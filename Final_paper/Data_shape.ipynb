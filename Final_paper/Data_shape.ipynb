{
 "cells": [
  {
   "attachments": {},
   "cell_type": "markdown",
   "metadata": {
    "id": "3IvcAik7Pe82"
   },
   "source": [
    "##### DATA"
   ]
  },
  {
   "cell_type": "code",
   "execution_count": null,
   "metadata": {},
   "outputs": [
    {
     "data": {
      "text/plain": [
       "Index(['PM10', 'PM25', 'O3', 'NO2', 'SO2', 'tem', 'rain', 'hum', 'vapor',\n",
       "       'dew', 'press', 'cloud', 'wind_x', 'wind_y', 'ammonia', 'toluen',\n",
       "       'methyle', 'benzene'],\n",
       "      dtype='object')"
      ]
     },
     "metadata": {},
     "output_type": "display_data"
    }
   ],
   "source": [
    "df_data.columns"
   ]
  },
  {
   "cell_type": "code",
   "execution_count": null,
   "metadata": {},
   "outputs": [],
   "source": [
    "df_data = df_data.interpolate(method = 'linear')"
   ]
  },
  {
   "cell_type": "code",
   "execution_count": null,
   "metadata": {
    "colab": {
     "base_uri": "https://localhost:8080/"
    },
    "executionInfo": {
     "elapsed": 14,
     "status": "ok",
     "timestamp": 1660094521569,
     "user": {
      "displayName": "seunga ahn",
      "userId": "11451354720632547933"
     },
     "user_tz": -540
    },
    "id": "rjiHiGH4Pe83",
    "outputId": "3715e6ae-444d-44b8-f54c-cb182aa3a8c7",
    "scrolled": true
   },
   "outputs": [
    {
     "data": {
      "text/plain": [
       "((8760, 18), (8784, 18), (8760, 18))"
      ]
     },
     "metadata": {},
     "output_type": "display_data"
    }
   ],
   "source": [
    "# Train, Vlidation, test set\n",
    "air_train = df_data[df_data.index.astype(str).str[:4] == '2019']\n",
    "air_valid = df_data[df_data.index.astype(str).str[:4] == '2020']\n",
    "air_test = df_data[df_data.index.astype(str).str[:4] == '2021']\n",
    "\n",
    "air_train.shape, air_valid.shape, air_test.shape"
   ]
  },
  {
   "cell_type": "code",
   "execution_count": null,
   "metadata": {
    "colab": {
     "base_uri": "https://localhost:8080/"
    },
    "executionInfo": {
     "elapsed": 12,
     "status": "ok",
     "timestamp": 1660094521570,
     "user": {
      "displayName": "seunga ahn",
      "userId": "11451354720632547933"
     },
     "user_tz": -540
    },
    "id": "0ybkzoOkPe83",
    "outputId": "7274588d-1d3e-4abf-84e9-0be6b3573106"
   },
   "outputs": [
    {
     "data": {
      "text/plain": [
       "PM10       0\n",
       "PM25       0\n",
       "O3         0\n",
       "NO2        0\n",
       "SO2        0\n",
       "tem        0\n",
       "rain       0\n",
       "hum        0\n",
       "vapor      0\n",
       "dew        0\n",
       "press      0\n",
       "cloud      0\n",
       "wind_x     0\n",
       "wind_y     0\n",
       "ammonia    0\n",
       "toluen     0\n",
       "methyle    0\n",
       "benzene    0\n",
       "dtype: int64"
      ]
     },
     "metadata": {},
     "output_type": "display_data"
    }
   ],
   "source": [
    "air_train.isnull().sum()"
   ]
  },
  {
   "cell_type": "code",
   "execution_count": null,
   "metadata": {
    "executionInfo": {
     "elapsed": 9,
     "status": "ok",
     "timestamp": 1660094521570,
     "user": {
      "displayName": "seunga ahn",
      "userId": "11451354720632547933"
     },
     "user_tz": -540
    },
    "id": "TN7A_cQ7Pe83"
   },
   "outputs": [],
   "source": [
    "# # 1) 신뢰구간 이용\n",
    "# def outlier(df, col, z):\n",
    "#     return df[abs(df[col] - np.mean(df[col]))/np.std(df[col])>z].index\n",
    "# # 2) IQR (25% 에서 75% 사이의 값 이용하기)\n",
    "# def get_outlier(df=None, column=None, weight = 1.5):\n",
    "#     quantile_25 = np.percentile(df[column].values, 25)\n",
    "#     quantile_75 = np.percentile(df[column].values, 75)\n",
    "    \n",
    "#     IQR = quantile_75 - quantile_25\n",
    "#     IQR_weight = IQR*weight\n",
    "    \n",
    "#     lowest = quantile_25 - IQR_weight\n",
    "#     highest = quantile_75 + IQR_weight\n",
    "    \n",
    "#     outlier_idx = df[column][(df[column] < lowest) | (df[column] > highest)].index\n",
    "#     return outlier_idx\n",
    "\n",
    "# # !!!! outlier 구할 때 해당 column에 빈 값이 있으면 결과가 나오지 않음 dropna 이후에 진행하기."
   ]
  },
  {
   "cell_type": "code",
   "execution_count": null,
   "metadata": {
    "executionInfo": {
     "elapsed": 9,
     "status": "ok",
     "timestamp": 1660094521571,
     "user": {
      "displayName": "seunga ahn",
      "userId": "11451354720632547933"
     },
     "user_tz": -540
    },
    "id": "kx9b04ilPe84"
   },
   "outputs": [],
   "source": [
    "#def get_outlier(df=None, column=None, weight = 1.5):\n",
    "# outlier_IQR = get_outlier(df = air_test, column='PM25', weight=1.5)\n",
    "# len(outlier_IQR)\n",
    "\n",
    "# air_test = air_test.drop(outlier_IQR)\n",
    "# air_test = air_test.reset_index()\n",
    "# air_test = air_test.drop('index', axis=1)"
   ]
  },
  {
   "cell_type": "code",
   "execution_count": null,
   "metadata": {},
   "outputs": [
    {
     "data": {
      "text/plain": [
       "Index(['PM10', 'PM25', 'O3', 'NO2', 'SO2', 'tem', 'rain', 'hum', 'vapor',\n",
       "       'dew', 'press', 'cloud', 'wind_x', 'wind_y', 'ammonia', 'toluen',\n",
       "       'methyle', 'benzene'],\n",
       "      dtype='object')"
      ]
     },
     "metadata": {},
     "output_type": "display_data"
    }
   ],
   "source": [
    "air_train.columns"
   ]
  },
  {
   "cell_type": "code",
   "execution_count": null,
   "metadata": {},
   "outputs": [],
   "source": [
    "y_train = air_train[['PM25']].reset_index()\n",
    "x_train = air_train.copy()\n",
    "y_valid = air_valid[['PM25']].reset_index()\n",
    "x_valid = air_valid.copy()\n",
    "y_test = air_test[['PM25']].reset_index()\n",
    "x_test = air_test.copy()"
   ]
  },
  {
   "cell_type": "code",
   "execution_count": null,
   "metadata": {
    "executionInfo": {
     "elapsed": 439,
     "status": "ok",
     "timestamp": 1660094522002,
     "user": {
      "displayName": "seunga ahn",
      "userId": "11451354720632547933"
     },
     "user_tz": -540
    },
    "id": "5d_BWtBVPe84",
    "scrolled": true
   },
   "outputs": [],
   "source": [
    "#StandardScaler & MinMaxScaler\n",
    "from sklearn.preprocessing import MinMaxScaler\n",
    "from sklearn.preprocessing import StandardScaler\n",
    "\n",
    "scaler = StandardScaler() \n",
    "\n",
    "scaler.fit(x_train)\n",
    "\n",
    "train_scaled = pd.DataFrame(scaler.transform(x_train))\n",
    "valid_scaled = pd.DataFrame(scaler.transform(x_valid))\n",
    "test_scaled = pd.DataFrame(scaler.transform(x_test))\n",
    "\n",
    "train_scaled.columns = x_train.columns\n",
    "valid_scaled.columns = x_valid.columns\n",
    "test_scaled.columns = x_test.columns\n",
    "\n",
    "train_scaled['predict_pm25'] = y_train['PM25']\n",
    "valid_scaled['predict_pm25'] = y_valid['PM25']\n",
    "test_scaled['predict_pm25'] = y_test['PM25']"
   ]
  },
  {
   "cell_type": "code",
   "execution_count": null,
   "metadata": {
    "colab": {
     "base_uri": "https://localhost:8080/",
     "height": 424
    },
    "executionInfo": {
     "elapsed": 24,
     "status": "ok",
     "timestamp": 1660094522003,
     "user": {
      "displayName": "seunga ahn",
      "userId": "11451354720632547933"
     },
     "user_tz": -540
    },
    "id": "3ylL-MfmPe84",
    "outputId": "d0c6b281-cf5e-4ad1-f1a4-2157681fb1bc",
    "scrolled": true
   },
   "outputs": [
    {
     "data": {
      "text/html": [
       "<div>\n",
       "<style scoped>\n",
       "    .dataframe tbody tr th:only-of-type {\n",
       "        vertical-align: middle;\n",
       "    }\n",
       "\n",
       "    .dataframe tbody tr th {\n",
       "        vertical-align: top;\n",
       "    }\n",
       "\n",
       "    .dataframe thead th {\n",
       "        text-align: right;\n",
       "    }\n",
       "</style>\n",
       "<table border=\"1\" class=\"dataframe\">\n",
       "  <thead>\n",
       "    <tr style=\"text-align: right;\">\n",
       "      <th></th>\n",
       "      <th>PM10</th>\n",
       "      <th>PM25</th>\n",
       "      <th>O3</th>\n",
       "      <th>NO2</th>\n",
       "      <th>SO2</th>\n",
       "      <th>tem</th>\n",
       "      <th>rain</th>\n",
       "      <th>hum</th>\n",
       "      <th>vapor</th>\n",
       "      <th>dew</th>\n",
       "      <th>press</th>\n",
       "      <th>cloud</th>\n",
       "      <th>wind_x</th>\n",
       "      <th>wind_y</th>\n",
       "      <th>ammonia</th>\n",
       "      <th>toluen</th>\n",
       "      <th>methyle</th>\n",
       "      <th>benzene</th>\n",
       "      <th>predict_pm25</th>\n",
       "    </tr>\n",
       "  </thead>\n",
       "  <tbody>\n",
       "    <tr>\n",
       "      <th>0</th>\n",
       "      <td>-0.062165</td>\n",
       "      <td>0.054807</td>\n",
       "      <td>-1.054984</td>\n",
       "      <td>0.486389</td>\n",
       "      <td>-0.855595</td>\n",
       "      <td>-1.709615</td>\n",
       "      <td>-0.146793</td>\n",
       "      <td>-1.774883</td>\n",
       "      <td>-1.308293</td>\n",
       "      <td>-2.066982</td>\n",
       "      <td>2.044835</td>\n",
       "      <td>-0.506958</td>\n",
       "      <td>0.670921</td>\n",
       "      <td>-1.718463</td>\n",
       "      <td>-0.143773</td>\n",
       "      <td>-0.313749</td>\n",
       "      <td>-0.314586</td>\n",
       "      <td>-0.174599</td>\n",
       "      <td>28.0</td>\n",
       "    </tr>\n",
       "    <tr>\n",
       "      <th>1</th>\n",
       "      <td>-0.323079</td>\n",
       "      <td>-0.273498</td>\n",
       "      <td>-0.883125</td>\n",
       "      <td>0.080660</td>\n",
       "      <td>-0.855595</td>\n",
       "      <td>-1.847492</td>\n",
       "      <td>-0.146793</td>\n",
       "      <td>-1.774883</td>\n",
       "      <td>-1.330662</td>\n",
       "      <td>-2.145097</td>\n",
       "      <td>2.085405</td>\n",
       "      <td>-1.260044</td>\n",
       "      <td>0.609534</td>\n",
       "      <td>-1.573274</td>\n",
       "      <td>-0.185917</td>\n",
       "      <td>-0.342465</td>\n",
       "      <td>-0.314586</td>\n",
       "      <td>-0.174599</td>\n",
       "      <td>23.0</td>\n",
       "    </tr>\n",
       "    <tr>\n",
       "      <th>2</th>\n",
       "      <td>-0.410050</td>\n",
       "      <td>-0.339159</td>\n",
       "      <td>-0.883125</td>\n",
       "      <td>0.080660</td>\n",
       "      <td>-0.855595</td>\n",
       "      <td>-1.985369</td>\n",
       "      <td>-0.146793</td>\n",
       "      <td>-1.727920</td>\n",
       "      <td>-1.330662</td>\n",
       "      <td>-2.188494</td>\n",
       "      <td>2.017788</td>\n",
       "      <td>-1.260044</td>\n",
       "      <td>1.557177</td>\n",
       "      <td>-1.047619</td>\n",
       "      <td>-0.214012</td>\n",
       "      <td>-0.356823</td>\n",
       "      <td>-0.314586</td>\n",
       "      <td>-0.174599</td>\n",
       "      <td>22.0</td>\n",
       "    </tr>\n",
       "    <tr>\n",
       "      <th>3</th>\n",
       "      <td>-0.323079</td>\n",
       "      <td>-0.076515</td>\n",
       "      <td>-0.997698</td>\n",
       "      <td>0.242952</td>\n",
       "      <td>-0.855595</td>\n",
       "      <td>-2.085643</td>\n",
       "      <td>-0.146793</td>\n",
       "      <td>-1.633992</td>\n",
       "      <td>-1.330662</td>\n",
       "      <td>-2.171135</td>\n",
       "      <td>2.044835</td>\n",
       "      <td>-1.260044</td>\n",
       "      <td>1.432994</td>\n",
       "      <td>-0.319824</td>\n",
       "      <td>-0.244449</td>\n",
       "      <td>-0.356823</td>\n",
       "      <td>-0.314586</td>\n",
       "      <td>-0.174599</td>\n",
       "      <td>26.0</td>\n",
       "    </tr>\n",
       "    <tr>\n",
       "      <th>4</th>\n",
       "      <td>-0.018680</td>\n",
       "      <td>0.120469</td>\n",
       "      <td>-0.825839</td>\n",
       "      <td>0.080660</td>\n",
       "      <td>-0.855595</td>\n",
       "      <td>-2.123246</td>\n",
       "      <td>-0.146793</td>\n",
       "      <td>-1.493101</td>\n",
       "      <td>-1.319477</td>\n",
       "      <td>-2.093020</td>\n",
       "      <td>2.004265</td>\n",
       "      <td>-1.260044</td>\n",
       "      <td>1.854645</td>\n",
       "      <td>-0.451935</td>\n",
       "      <td>-0.229231</td>\n",
       "      <td>-0.500405</td>\n",
       "      <td>-0.314586</td>\n",
       "      <td>-0.174599</td>\n",
       "      <td>29.0</td>\n",
       "    </tr>\n",
       "    <tr>\n",
       "      <th>...</th>\n",
       "      <td>...</td>\n",
       "      <td>...</td>\n",
       "      <td>...</td>\n",
       "      <td>...</td>\n",
       "      <td>...</td>\n",
       "      <td>...</td>\n",
       "      <td>...</td>\n",
       "      <td>...</td>\n",
       "      <td>...</td>\n",
       "      <td>...</td>\n",
       "      <td>...</td>\n",
       "      <td>...</td>\n",
       "      <td>...</td>\n",
       "      <td>...</td>\n",
       "      <td>...</td>\n",
       "      <td>...</td>\n",
       "      <td>...</td>\n",
       "      <td>...</td>\n",
       "      <td>...</td>\n",
       "    </tr>\n",
       "    <tr>\n",
       "      <th>8755</th>\n",
       "      <td>-0.931876</td>\n",
       "      <td>-0.995769</td>\n",
       "      <td>-0.424834</td>\n",
       "      <td>-0.162778</td>\n",
       "      <td>-0.408785</td>\n",
       "      <td>-2.060575</td>\n",
       "      <td>-0.146793</td>\n",
       "      <td>-1.915775</td>\n",
       "      <td>-1.364217</td>\n",
       "      <td>-2.405479</td>\n",
       "      <td>1.990742</td>\n",
       "      <td>-1.260044</td>\n",
       "      <td>0.164476</td>\n",
       "      <td>-0.520660</td>\n",
       "      <td>0.410020</td>\n",
       "      <td>-0.643987</td>\n",
       "      <td>-0.314586</td>\n",
       "      <td>1.190381</td>\n",
       "      <td>12.0</td>\n",
       "    </tr>\n",
       "    <tr>\n",
       "      <th>8756</th>\n",
       "      <td>-1.105818</td>\n",
       "      <td>-1.061430</td>\n",
       "      <td>-0.310262</td>\n",
       "      <td>-0.487362</td>\n",
       "      <td>-0.408785</td>\n",
       "      <td>-2.098178</td>\n",
       "      <td>-0.146793</td>\n",
       "      <td>-1.962739</td>\n",
       "      <td>-1.375402</td>\n",
       "      <td>-2.474914</td>\n",
       "      <td>1.950172</td>\n",
       "      <td>-1.260044</td>\n",
       "      <td>-0.127114</td>\n",
       "      <td>0.709756</td>\n",
       "      <td>0.454958</td>\n",
       "      <td>-0.643987</td>\n",
       "      <td>-0.314586</td>\n",
       "      <td>1.074212</td>\n",
       "      <td>11.0</td>\n",
       "    </tr>\n",
       "    <tr>\n",
       "      <th>8757</th>\n",
       "      <td>-0.670963</td>\n",
       "      <td>-0.733125</td>\n",
       "      <td>-0.138403</td>\n",
       "      <td>-0.730800</td>\n",
       "      <td>-0.408785</td>\n",
       "      <td>-2.148315</td>\n",
       "      <td>-0.146793</td>\n",
       "      <td>-1.962739</td>\n",
       "      <td>-1.375402</td>\n",
       "      <td>-2.500952</td>\n",
       "      <td>1.909603</td>\n",
       "      <td>-1.260044</td>\n",
       "      <td>1.137838</td>\n",
       "      <td>-0.227347</td>\n",
       "      <td>0.499895</td>\n",
       "      <td>-0.629629</td>\n",
       "      <td>-0.314586</td>\n",
       "      <td>1.016128</td>\n",
       "      <td>16.0</td>\n",
       "    </tr>\n",
       "    <tr>\n",
       "      <th>8758</th>\n",
       "      <td>-1.192789</td>\n",
       "      <td>-0.930108</td>\n",
       "      <td>-0.252975</td>\n",
       "      <td>-0.649654</td>\n",
       "      <td>-0.408785</td>\n",
       "      <td>-2.210986</td>\n",
       "      <td>-0.146793</td>\n",
       "      <td>-1.821847</td>\n",
       "      <td>-1.364217</td>\n",
       "      <td>-2.405479</td>\n",
       "      <td>1.923126</td>\n",
       "      <td>-1.260044</td>\n",
       "      <td>0.388485</td>\n",
       "      <td>-0.203445</td>\n",
       "      <td>0.544833</td>\n",
       "      <td>-0.643987</td>\n",
       "      <td>-0.314586</td>\n",
       "      <td>0.929002</td>\n",
       "      <td>13.0</td>\n",
       "    </tr>\n",
       "    <tr>\n",
       "      <th>8759</th>\n",
       "      <td>-1.149304</td>\n",
       "      <td>-1.192752</td>\n",
       "      <td>-0.252975</td>\n",
       "      <td>-0.811946</td>\n",
       "      <td>-0.408785</td>\n",
       "      <td>-2.261123</td>\n",
       "      <td>-0.146793</td>\n",
       "      <td>-1.821847</td>\n",
       "      <td>-1.375402</td>\n",
       "      <td>-2.431517</td>\n",
       "      <td>1.936649</td>\n",
       "      <td>-1.260044</td>\n",
       "      <td>0.594725</td>\n",
       "      <td>-0.352417</td>\n",
       "      <td>0.589771</td>\n",
       "      <td>-0.658345</td>\n",
       "      <td>-0.314586</td>\n",
       "      <td>0.899960</td>\n",
       "      <td>9.0</td>\n",
       "    </tr>\n",
       "  </tbody>\n",
       "</table>\n",
       "<p>8760 rows × 19 columns</p>\n",
       "</div>"
      ],
      "text/plain": [
       "          PM10      PM25        O3       NO2       SO2       tem      rain  \\\n",
       "0    -0.062165  0.054807 -1.054984  0.486389 -0.855595 -1.709615 -0.146793   \n",
       "1    -0.323079 -0.273498 -0.883125  0.080660 -0.855595 -1.847492 -0.146793   \n",
       "2    -0.410050 -0.339159 -0.883125  0.080660 -0.855595 -1.985369 -0.146793   \n",
       "3    -0.323079 -0.076515 -0.997698  0.242952 -0.855595 -2.085643 -0.146793   \n",
       "4    -0.018680  0.120469 -0.825839  0.080660 -0.855595 -2.123246 -0.146793   \n",
       "...        ...       ...       ...       ...       ...       ...       ...   \n",
       "8755 -0.931876 -0.995769 -0.424834 -0.162778 -0.408785 -2.060575 -0.146793   \n",
       "8756 -1.105818 -1.061430 -0.310262 -0.487362 -0.408785 -2.098178 -0.146793   \n",
       "8757 -0.670963 -0.733125 -0.138403 -0.730800 -0.408785 -2.148315 -0.146793   \n",
       "8758 -1.192789 -0.930108 -0.252975 -0.649654 -0.408785 -2.210986 -0.146793   \n",
       "8759 -1.149304 -1.192752 -0.252975 -0.811946 -0.408785 -2.261123 -0.146793   \n",
       "\n",
       "           hum     vapor       dew     press     cloud    wind_x    wind_y  \\\n",
       "0    -1.774883 -1.308293 -2.066982  2.044835 -0.506958  0.670921 -1.718463   \n",
       "1    -1.774883 -1.330662 -2.145097  2.085405 -1.260044  0.609534 -1.573274   \n",
       "2    -1.727920 -1.330662 -2.188494  2.017788 -1.260044  1.557177 -1.047619   \n",
       "3    -1.633992 -1.330662 -2.171135  2.044835 -1.260044  1.432994 -0.319824   \n",
       "4    -1.493101 -1.319477 -2.093020  2.004265 -1.260044  1.854645 -0.451935   \n",
       "...        ...       ...       ...       ...       ...       ...       ...   \n",
       "8755 -1.915775 -1.364217 -2.405479  1.990742 -1.260044  0.164476 -0.520660   \n",
       "8756 -1.962739 -1.375402 -2.474914  1.950172 -1.260044 -0.127114  0.709756   \n",
       "8757 -1.962739 -1.375402 -2.500952  1.909603 -1.260044  1.137838 -0.227347   \n",
       "8758 -1.821847 -1.364217 -2.405479  1.923126 -1.260044  0.388485 -0.203445   \n",
       "8759 -1.821847 -1.375402 -2.431517  1.936649 -1.260044  0.594725 -0.352417   \n",
       "\n",
       "       ammonia    toluen   methyle   benzene  predict_pm25  \n",
       "0    -0.143773 -0.313749 -0.314586 -0.174599          28.0  \n",
       "1    -0.185917 -0.342465 -0.314586 -0.174599          23.0  \n",
       "2    -0.214012 -0.356823 -0.314586 -0.174599          22.0  \n",
       "3    -0.244449 -0.356823 -0.314586 -0.174599          26.0  \n",
       "4    -0.229231 -0.500405 -0.314586 -0.174599          29.0  \n",
       "...        ...       ...       ...       ...           ...  \n",
       "8755  0.410020 -0.643987 -0.314586  1.190381          12.0  \n",
       "8756  0.454958 -0.643987 -0.314586  1.074212          11.0  \n",
       "8757  0.499895 -0.629629 -0.314586  1.016128          16.0  \n",
       "8758  0.544833 -0.643987 -0.314586  0.929002          13.0  \n",
       "8759  0.589771 -0.658345 -0.314586  0.899960           9.0  \n",
       "\n",
       "[8760 rows x 19 columns]"
      ]
     },
     "metadata": {},
     "output_type": "display_data"
    }
   ],
   "source": [
    "train_scaled"
   ]
  },
  {
   "cell_type": "code",
   "execution_count": null,
   "metadata": {
    "colab": {
     "base_uri": "https://localhost:8080/"
    },
    "executionInfo": {
     "elapsed": 23,
     "status": "ok",
     "timestamp": 1660094522003,
     "user": {
      "displayName": "seunga ahn",
      "userId": "11451354720632547933"
     },
     "user_tz": -540
    },
    "id": "myxhSPoIPe85",
    "outputId": "149c2057-f64b-467d-be47-a58343cc1661"
   },
   "outputs": [
    {
     "data": {
      "text/plain": [
       "Index(['PM10', 'PM25', 'O3', 'NO2', 'SO2', 'tem', 'rain', 'hum', 'vapor',\n",
       "       'dew', 'press', 'cloud', 'wind_x', 'wind_y', 'ammonia', 'toluen',\n",
       "       'methyle', 'benzene'],\n",
       "      dtype='object')"
      ]
     },
     "metadata": {},
     "output_type": "display_data"
    }
   ],
   "source": [
    "x_train.columns"
   ]
  },
  {
   "cell_type": "code",
   "execution_count": null,
   "metadata": {
    "executionInfo": {
     "elapsed": 15,
     "status": "ok",
     "timestamp": 1660094522004,
     "user": {
      "displayName": "seunga ahn",
      "userId": "11451354720632547933"
     },
     "user_tz": -540
    },
    "id": "YIM5O2TdPe85"
   },
   "outputs": [],
   "source": [
    "train_x = train_scaled[['PM25', 'PM10', 'O3', 'NO2', 'SO2', 'tem', 'rain', 'wind_x', 'wind_y', 'hum',\n",
    "       'press', 'cloud', 'ammonia', 'toluen', 'methyle']]\n",
    "train_y = train_scaled[['predict_pm25']]\n",
    "\n",
    "valid_x = valid_scaled[['PM25', 'PM10', 'O3', 'NO2', 'SO2', 'tem', 'rain', 'wind_x', 'wind_y', 'hum',\n",
    "       'press', 'cloud', 'ammonia', 'toluen', 'methyle']]\n",
    "valid_y = valid_scaled[['predict_pm25']]\n",
    "\n",
    "test_x = test_scaled[['PM25', 'PM10', 'O3', 'NO2', 'SO2', 'tem', 'rain', 'wind_x', 'wind_y', 'hum',\n",
    "       'press', 'cloud', 'ammonia', 'toluen', 'methyle']]\n",
    "test_y = test_scaled[['predict_pm25']]"
   ]
  },
  {
   "cell_type": "code",
   "execution_count": null,
   "metadata": {
    "colab": {
     "base_uri": "https://localhost:8080/"
    },
    "executionInfo": {
     "elapsed": 15,
     "status": "ok",
     "timestamp": 1660094522004,
     "user": {
      "displayName": "seunga ahn",
      "userId": "11451354720632547933"
     },
     "user_tz": -540
    },
    "id": "7wQwuw3uPe85",
    "outputId": "0a67c624-ff63-4ef1-9ebb-1898709b5f13"
   },
   "outputs": [
    {
     "data": {
      "text/plain": [
       "((8760, 15), (8784, 15), (8760, 15))"
      ]
     },
     "metadata": {},
     "output_type": "display_data"
    }
   ],
   "source": [
    "train_x.shape, valid_x.shape, test_x.shape"
   ]
  },
  {
   "cell_type": "code",
   "execution_count": null,
   "metadata": {
    "executionInfo": {
     "elapsed": 13,
     "status": "ok",
     "timestamp": 1660094522004,
     "user": {
      "displayName": "seunga ahn",
      "userId": "11451354720632547933"
     },
     "user_tz": -540
    },
    "id": "Sd5mGuB5Pe85",
    "scrolled": true
   },
   "outputs": [],
   "source": [
    "train_set = train_x.values\n",
    "valid_set = valid_x.values\n",
    "test_set = test_x.values\n",
    "\n",
    "train_y = train_y.values\n",
    "valid_y = valid_y.values\n",
    "test_y = test_y.values"
   ]
  },
  {
   "cell_type": "code",
   "execution_count": null,
   "metadata": {
    "executionInfo": {
     "elapsed": 13,
     "status": "ok",
     "timestamp": 1660094522005,
     "user": {
      "displayName": "seunga ahn",
      "userId": "11451354720632547933"
     },
     "user_tz": -540
    },
    "id": "07HfvJZyPe86"
   },
   "outputs": [],
   "source": [
    "# data change for LSTM\n",
    "\n",
    "def multivariate_data(dataset, target, start_index, end_index, history_size,\n",
    "                      target_size, single_step=False):\n",
    "  data = []\n",
    "  labels = []\n",
    "\n",
    "  start_index = start_index + history_size\n",
    "  if end_index is None:\n",
    "    end_index = len(dataset) - target_size\n",
    "\n",
    "  for i in range(start_index, end_index, 24):\n",
    "    indices = range(i-history_size, i)\n",
    "    data.append(dataset[indices])\n",
    "\n",
    "    if single_step:\n",
    "      labels.append(target[i+target_size])\n",
    "    else:\n",
    "      labels.append(target[i:i+target_size])\n",
    "\n",
    "  return np.array(data), np.array(labels)"
   ]
  },
  {
   "cell_type": "code",
   "execution_count": null,
   "metadata": {
    "executionInfo": {
     "elapsed": 13,
     "status": "ok",
     "timestamp": 1660094522005,
     "user": {
      "displayName": "seunga ahn",
      "userId": "11451354720632547933"
     },
     "user_tz": -540
    },
    "id": "czQ85lqzPe86"
   },
   "outputs": [],
   "source": [
    "BATCH_SIZE = 64\n",
    "BUFFER_SIZE = 3000\n",
    "past_history = 24\n",
    "future_target = 24\n",
    "\n",
    "x_train_multi, y_train_multi = multivariate_data(train_set, train_y, 0,\n",
    "                                                       None, past_history,\n",
    "                                                       future_target,\n",
    "                                                       single_step=False)\n",
    "x_val_multi, y_val_multi = multivariate_data(valid_set, valid_y,\n",
    "                                                   0, None, past_history,\n",
    "                                                   future_target,\n",
    "                                                   single_step=False)\n",
    "x_test_multi, y_test_multi = multivariate_data(test_set, test_y, 0,\n",
    "                                               None, past_history,\n",
    "                                               future_target,\n",
    "                                               single_step=False)"
   ]
  },
  {
   "cell_type": "code",
   "execution_count": null,
   "metadata": {
    "colab": {
     "base_uri": "https://localhost:8080/"
    },
    "executionInfo": {
     "elapsed": 13,
     "status": "ok",
     "timestamp": 1660094522005,
     "user": {
      "displayName": "seunga ahn",
      "userId": "11451354720632547933"
     },
     "user_tz": -540
    },
    "id": "YtempeOPPe86",
    "outputId": "907270f1-83da-4529-949c-fdc6718d5a94"
   },
   "outputs": [
    {
     "data": {
      "text/plain": [
       "(363, 24, 15)"
      ]
     },
     "metadata": {},
     "output_type": "display_data"
    }
   ],
   "source": [
    "x_test_multi.shape"
   ]
  },
  {
   "cell_type": "code",
   "execution_count": null,
   "metadata": {
    "executionInfo": {
     "elapsed": 11,
     "status": "ok",
     "timestamp": 1660094522005,
     "user": {
      "displayName": "seunga ahn",
      "userId": "11451354720632547933"
     },
     "user_tz": -540
    },
    "id": "LYCVcAppPe87"
   },
   "outputs": [],
   "source": [
    "# data object to float\n",
    "x_train_multi = x_train_multi.astype(float)\n",
    "x_val_multi = x_val_multi.astype(float)\n",
    "x_test_multi = x_test_multi.astype(float)\n",
    "\n",
    "y_train_multi = y_train_multi.astype(float)\n",
    "y_val_multi = y_val_multi.astype(float)\n",
    "y_test_multi = y_test_multi.astype(float)"
   ]
  }
 ],
 "metadata": {
  "kernelspec": {
   "display_name": "Python 3",
   "language": "python",
   "name": "python3"
  },
  "language_info": {
   "name": "python",
   "version": "3.10.9 (v3.10.9:1dd9be6584, Dec  6 2022, 14:37:36) [Clang 13.0.0 (clang-1300.0.29.30)]"
  },
  "orig_nbformat": 4,
  "vscode": {
   "interpreter": {
    "hash": "aee8b7b246df8f9039afb4144a1f6fd8d2ca17a180786b69acc140d282b71a49"
   }
  }
 },
 "nbformat": 4,
 "nbformat_minor": 2
}
