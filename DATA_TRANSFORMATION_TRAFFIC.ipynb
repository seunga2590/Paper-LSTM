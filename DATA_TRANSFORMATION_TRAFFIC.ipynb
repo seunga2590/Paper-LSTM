{
  "nbformat": 4,
  "nbformat_minor": 0,
  "metadata": {
    "colab": {
      "provenance": []
    },
    "kernelspec": {
      "name": "python3",
      "display_name": "Python 3"
    },
    "language_info": {
      "name": "python"
    }
  },
  "cells": [
    {
      "cell_type": "markdown",
      "source": [
        "### RNN, LSTM에 맞는 데이터 변환"
      ],
      "metadata": {
        "id": "t4w8D_4ThLFY"
      }
    },
    {
      "cell_type": "code",
      "execution_count": null,
      "metadata": {
        "id": "hHNl1G3FcPMC"
      },
      "outputs": [],
      "source": [
        "train_set = train_x.values\n",
        "valid_set = valid_x.values\n",
        "test_set = test_x.values\n",
        "\n",
        "train_y = train_y.values\n",
        "valid_y = valid_y.values\n",
        "test_y = test_y.values"
      ]
    },
    {
      "cell_type": "code",
      "execution_count": null,
      "metadata": {
        "id": "Rc4v1eeJcPMC"
      },
      "outputs": [],
      "source": [
        "# data change for LSTM\n",
        "\n",
        "def multivariate_data(dataset, target, start_index, end_index, history_size,\n",
        "                      target_size, step, single_step=False):\n",
        "    data = []\n",
        "    labels = []\n",
        "    \n",
        "    start_index = start_index + history_size\n",
        "    if end_index is None:\n",
        "        end_index = len(dataset) - target_size\n",
        "        \n",
        "    for i in range(start_index, end_index, 24):\n",
        "        indices = range(i-history_size, i)\n",
        "        data.append(dataset[indices])\n",
        "        \n",
        "        if single_step:\n",
        "            labels.append(target[i+target_size])\n",
        "        else:\n",
        "            labels.append(target[i:i+target_size])\n",
        "        \n",
        "    return np.array(data), np.array(labels)"
      ]
    },
    {
      "cell_type": "code",
      "execution_count": null,
      "metadata": {
        "id": "FMEvWvtacPMC"
      },
      "outputs": [],
      "source": [
        "# 24시간 데이터 이용해 이후 24시간 동안의 PM2.5 예측\n",
        "\n",
        "BATCH_SIZE = 64\n",
        "BUFFER_SIZE = 3000\n",
        "past_history = 24\n",
        "future_target = 24\n",
        "STEP = 24\n",
        "\n",
        "x_train_multi, y_train_multi = multivariate_data(train_set, train_y, 0,\n",
        "                                                       None, past_history,\n",
        "                                                       future_target, STEP,\n",
        "                                                       single_step=False)\n",
        "x_val_multi, y_val_multi = multivariate_data(valid_set, valid_y,\n",
        "                                                   0, None, past_history,\n",
        "                                                   future_target, STEP,\n",
        "                                                   single_step=False)\n",
        "x_test_multi, y_test_multi = multivariate_data(test_set, test_y, 0,\n",
        "                                               None, past_history,\n",
        "                                               future_target, STEP,\n",
        "                                               single_step=False)"
      ]
    },
    {
      "cell_type": "code",
      "execution_count": null,
      "metadata": {
        "id": "TeuU4rRycPMD"
      },
      "outputs": [],
      "source": [
        "test_shap = test_shap.values"
      ]
    },
    {
      "cell_type": "code",
      "execution_count": null,
      "metadata": {
        "id": "2F_i5eL_cPMD",
        "scrolled": true
      },
      "outputs": [],
      "source": [
        "test_shap_1, test_shap_2 = multivariate_data(test_shap, test_y, 0, \n",
        "                                            None, past_history,\n",
        "                                            future_target, STEP,\n",
        "                                            single_step=False)"
      ]
    },
    {
      "cell_type": "code",
      "execution_count": null,
      "metadata": {
        "colab": {
          "base_uri": "https://localhost:8080/"
        },
        "id": "JB_42OlXcPMD",
        "outputId": "1ba21b4f-c7b0-4ca6-c69b-b9fdfae23655"
      },
      "outputs": [
        {
          "output_type": "execute_result",
          "data": {
            "text/plain": [
              "(308, 24, 17)"
            ]
          },
          "metadata": {},
          "execution_count": 46
        }
      ],
      "source": [
        "test_shap_1.shape #(데이터 수, 시간, 특성 수)"
      ]
    },
    {
      "cell_type": "code",
      "execution_count": null,
      "metadata": {
        "id": "1bLgl1DKcPMD"
      },
      "outputs": [],
      "source": [
        "# Object to float\n",
        "x_train_multi = x_train_multi.astype(float)\n",
        "x_val_multi = x_val_multi.astype(float)\n",
        "x_test_multi = x_test_multi.astype(float)\n",
        "\n",
        "y_train_multi = y_train_multi.astype(float)\n",
        "y_val_multi = y_val_multi.astype(float)\n",
        "y_test_multi = y_test_multi.astype(float)"
      ]
    }
  ]
}