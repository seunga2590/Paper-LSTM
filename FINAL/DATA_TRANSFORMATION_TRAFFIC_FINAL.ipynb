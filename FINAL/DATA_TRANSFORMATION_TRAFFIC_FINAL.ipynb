{
  "nbformat": 4,
  "nbformat_minor": 0,
  "metadata": {
    "colab": {
      "provenance": []
    },
    "kernelspec": {
      "name": "python3",
      "display_name": "Python 3"
    },
    "language_info": {
      "name": "python"
    }
  },
  "cells": [
    {
      "cell_type": "markdown",
      "source": [
        "##### DNN에 맞춘 데이터 split"
      ],
      "metadata": {
        "id": "ih-cKHt5Tmbo"
      }
    },
    {
      "cell_type": "code",
      "execution_count": null,
      "metadata": {
        "id": "PysWeWUGcPMB"
      },
      "outputs": [],
      "source": [
        "dnn_x_train = air_train.drop(['date', 'tomm_pm'], axis = 1)\n",
        "dnn_y_train = air_train[['tomm_pm']]\n",
        "\n",
        "dnn_x_valid = air_valid.drop(['date', 'tomm_pm'], axis = 1)\n",
        "dnn_y_valid = air_valid[['tomm_pm']]\n",
        "\n",
        "dnn_x_test = air_test.drop(['date', 'tomm_pm'], axis = 1)\n",
        "dnn_y_test = air_test[['tomm_pm']]"
      ]
    },
    {
      "cell_type": "code",
      "execution_count": null,
      "metadata": {
        "id": "-Ul88XGacPMB",
        "scrolled": true
      },
      "outputs": [],
      "source": [
        "#StandardScaler & MinMaxScaler\n",
        "from sklearn.preprocessing import MinMaxScaler\n",
        "from sklearn.preprocessing import StandardScaler\n",
        "\n",
        "scaler = StandardScaler() \n",
        "\n",
        "scaler.fit(dnn_x_train)\n",
        "\n",
        "train_scaled = pd.DataFrame(scaler.transform(dnn_x_train))\n",
        "valid_scaled = pd.DataFrame(scaler.transform(dnn_x_valid))\n",
        "test_scaled = pd.DataFrame(scaler.transform(dnn_x_test))"
      ]
    },
    {
      "cell_type": "code",
      "source": [
        "train_scaled.shape, valid_scaled.shape, test_scaled.shape"
      ],
      "metadata": {
        "id": "ry3wxBXCgvHH",
        "colab": {
          "base_uri": "https://localhost:8080/"
        },
        "outputId": "9e2ed5d7-7db1-41db-d80d-ca0827f23e91"
      },
      "execution_count": null,
      "outputs": [
        {
          "output_type": "execute_result",
          "data": {
            "text/plain": [
              "((8730, 20), (8784, 20), (8760, 20))"
            ]
          },
          "metadata": {},
          "execution_count": 156
        }
      ]
    },
    {
      "cell_type": "markdown",
      "source": [
        "##### RNN, LSTM에 맞춘 데이터 변환"
      ],
      "metadata": {
        "id": "agfEEEf3TqGi"
      }
    },
    {
      "cell_type": "code",
      "source": [
        "train_x = air_train.drop(['date', 'tomm_pm'], axis = 1)\n",
        "train_y = air_train[['PM25']]\n",
        "\n",
        "valid_x = air_valid.drop(['date', 'tomm_pm'], axis = 1)\n",
        "valid_y = air_valid[['PM25']]\n",
        "\n",
        "test_x = air_test.drop(['date', 'tomm_pm'], axis = 1)\n",
        "test_y = air_test[['PM25']]"
      ],
      "metadata": {
        "id": "hcBUB2ZdTvJd"
      },
      "execution_count": null,
      "outputs": []
    },
    {
      "cell_type": "code",
      "execution_count": null,
      "metadata": {
        "id": "hHNl1G3FcPMC"
      },
      "outputs": [],
      "source": [
        "train_set = train_x.values\n",
        "valid_set = valid_x.values\n",
        "test_set = test_x.values\n",
        "\n",
        "train_y = train_y.values\n",
        "valid_y = valid_y.values\n",
        "test_y = test_y.values"
      ]
    },
    {
      "cell_type": "code",
      "execution_count": null,
      "metadata": {
        "id": "Rc4v1eeJcPMC"
      },
      "outputs": [],
      "source": [
        "# data change for LSTM\n",
        "\n",
        "def multivariate_data(dataset, target, start_index, end_index, history_size,\n",
        "                      target_size, step, single_step=False):\n",
        "    data = []\n",
        "    labels = []\n",
        "    \n",
        "    start_index = start_index + history_size\n",
        "    if end_index is None:\n",
        "        end_index = len(dataset) - target_size\n",
        "        \n",
        "    for i in range(start_index, end_index, 24):\n",
        "        indices = range(i-history_size, i)\n",
        "        data.append(dataset[indices])\n",
        "        \n",
        "        if single_step:\n",
        "            labels.append(target[i+target_size])\n",
        "        else:\n",
        "            labels.append(target[i:i+target_size])\n",
        "        \n",
        "    return np.array(data), np.array(labels)"
      ]
    },
    {
      "cell_type": "code",
      "execution_count": null,
      "metadata": {
        "id": "FMEvWvtacPMC"
      },
      "outputs": [],
      "source": [
        "# 24시간 데이터 이용해 이후 24시간 동안의 PM2.5 예측\n",
        "\n",
        "BATCH_SIZE = 64\n",
        "BUFFER_SIZE = 3000\n",
        "past_history = 24\n",
        "future_target = 24\n",
        "STEP = 24\n",
        "\n",
        "x_train_multi, y_train_multi = multivariate_data(train_set, train_y, 0,\n",
        "                                                       None, past_history,\n",
        "                                                       future_target, STEP,\n",
        "                                                       single_step=False)\n",
        "x_val_multi, y_val_multi = multivariate_data(valid_set, valid_y,\n",
        "                                                   0, None, past_history,\n",
        "                                                   future_target, STEP,\n",
        "                                                   single_step=False)\n",
        "x_test_multi, y_test_multi = multivariate_data(test_set, test_y, 0,\n",
        "                                               None, past_history,\n",
        "                                               future_target, STEP,\n",
        "                                               single_step=False)"
      ]
    },
    {
      "cell_type": "code",
      "execution_count": null,
      "metadata": {
        "id": "1bLgl1DKcPMD"
      },
      "outputs": [],
      "source": [
        "# Object to float\n",
        "x_train_multi = x_train_multi.astype(float)\n",
        "x_val_multi = x_val_multi.astype(float)\n",
        "x_test_multi = x_test_multi.astype(float)\n",
        "\n",
        "y_train_multi = y_train_multi.astype(float)\n",
        "y_val_multi = y_val_multi.astype(float)\n",
        "y_test_multi = y_test_multi.astype(float)"
      ]
    }
  ]
}