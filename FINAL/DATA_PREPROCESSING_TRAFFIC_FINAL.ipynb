{
  "nbformat": 4,
  "nbformat_minor": 0,
  "metadata": {
    "colab": {
      "provenance": []
    },
    "kernelspec": {
      "name": "python3",
      "display_name": "Python 3"
    },
    "language_info": {
      "name": "python"
    }
  },
  "cells": [
    {
      "cell_type": "markdown",
      "metadata": {
        "id": "gw6S_VRZcPLc"
      },
      "source": [
        "## VOCs"
      ]
    },
    {
      "cell_type": "code",
      "execution_count": 145,
      "metadata": {
        "colab": {
          "base_uri": "https://localhost:8080/"
        },
        "id": "x9rkiqxNcPLh",
        "outputId": "de8197ac-627e-4f67-8da3-47a22553c961"
      },
      "outputs": [
        {
          "output_type": "stream",
          "name": "stdout",
          "text": [
            "[name: \"/device:CPU:0\"\n",
            "device_type: \"CPU\"\n",
            "memory_limit: 268435456\n",
            "locality {\n",
            "}\n",
            "incarnation: 17045352062131704522\n",
            "xla_global_id: -1\n",
            "]\n"
          ]
        }
      ],
      "source": [
        "#tensorflow GPU 사용 확인\n",
        "from tensorflow.python.client import device_lib\n",
        "import pandas as pd\n",
        "import numpy as np\n",
        "import glob\n",
        "from functools import reduce\n",
        "import tensorflow as tf\n",
        "import warnings\n",
        "warnings.filterwarnings(\"ignore\")\n",
        "print(device_lib.list_local_devices())"
      ]
    },
    {
      "cell_type": "markdown",
      "metadata": {
        "id": "YjHLn8PYcPLn"
      },
      "source": [
        "## 데이터 불러오기 및 정리"
      ]
    },
    {
      "cell_type": "markdown",
      "metadata": {
        "id": "-iXujScMcPLo"
      },
      "source": [
        "### VOCs 데이터"
      ]
    },
    {
      "cell_type": "code",
      "execution_count": 2,
      "metadata": {
        "colab": {
          "base_uri": "https://localhost:8080/"
        },
        "id": "sW9YOpQ7dX8f",
        "outputId": "74d005ed-b305-4589-a986-6749d47eb90b"
      },
      "outputs": [
        {
          "output_type": "stream",
          "name": "stdout",
          "text": [
            "Mounted at /content/drive\n"
          ]
        }
      ],
      "source": [
        "from google.colab import drive\n",
        "drive.mount('/content/drive')"
      ]
    },
    {
      "cell_type": "code",
      "execution_count": 3,
      "metadata": {
        "id": "c91MH-PdcPLp",
        "colab": {
          "base_uri": "https://localhost:8080/",
          "height": 206
        },
        "outputId": "2a4e01f9-880b-4096-c64a-1fcf34e9e3f4"
      },
      "outputs": [
        {
          "output_type": "execute_result",
          "data": {
            "text/plain": [
              "   월  일  시간 암모니아\\n(ppb) 톨루엔\\n(ppb) mp-자일렌(ppb) o-자일렌(ppb) 자일렌(ppb)  \\\n",
              "0  1  1   0        76.1        2.8         0.8        0.3      1.1   \n",
              "1  1  1   1        72.5        2.6         0.5        0.2      0.7   \n",
              "2  1  1   2        70.1        2.5         0.5        0.2      0.7   \n",
              "3  1  1   3        67.5        2.5         0.5        0.2      0.7   \n",
              "4  1  1   4        68.8        1.5         0.4        0.1      0.6   \n",
              "\n",
              "  메틸에틸케톤(ppb) 벤젠(ppb)    연도  \n",
              "0           0     0.4  2019  \n",
              "1           0     0.4  2019  \n",
              "2           0     0.4  2019  \n",
              "3           0     0.4  2019  \n",
              "4           0     0.4  2019  "
            ],
            "text/html": [
              "\n",
              "  <div id=\"df-40ce76e4-969e-41b3-bdc3-9e1e1c08614c\">\n",
              "    <div class=\"colab-df-container\">\n",
              "      <div>\n",
              "<style scoped>\n",
              "    .dataframe tbody tr th:only-of-type {\n",
              "        vertical-align: middle;\n",
              "    }\n",
              "\n",
              "    .dataframe tbody tr th {\n",
              "        vertical-align: top;\n",
              "    }\n",
              "\n",
              "    .dataframe thead th {\n",
              "        text-align: right;\n",
              "    }\n",
              "</style>\n",
              "<table border=\"1\" class=\"dataframe\">\n",
              "  <thead>\n",
              "    <tr style=\"text-align: right;\">\n",
              "      <th></th>\n",
              "      <th>월</th>\n",
              "      <th>일</th>\n",
              "      <th>시간</th>\n",
              "      <th>암모니아\\n(ppb)</th>\n",
              "      <th>톨루엔\\n(ppb)</th>\n",
              "      <th>mp-자일렌(ppb)</th>\n",
              "      <th>o-자일렌(ppb)</th>\n",
              "      <th>자일렌(ppb)</th>\n",
              "      <th>메틸에틸케톤(ppb)</th>\n",
              "      <th>벤젠(ppb)</th>\n",
              "      <th>연도</th>\n",
              "    </tr>\n",
              "  </thead>\n",
              "  <tbody>\n",
              "    <tr>\n",
              "      <th>0</th>\n",
              "      <td>1</td>\n",
              "      <td>1</td>\n",
              "      <td>0</td>\n",
              "      <td>76.1</td>\n",
              "      <td>2.8</td>\n",
              "      <td>0.8</td>\n",
              "      <td>0.3</td>\n",
              "      <td>1.1</td>\n",
              "      <td>0</td>\n",
              "      <td>0.4</td>\n",
              "      <td>2019</td>\n",
              "    </tr>\n",
              "    <tr>\n",
              "      <th>1</th>\n",
              "      <td>1</td>\n",
              "      <td>1</td>\n",
              "      <td>1</td>\n",
              "      <td>72.5</td>\n",
              "      <td>2.6</td>\n",
              "      <td>0.5</td>\n",
              "      <td>0.2</td>\n",
              "      <td>0.7</td>\n",
              "      <td>0</td>\n",
              "      <td>0.4</td>\n",
              "      <td>2019</td>\n",
              "    </tr>\n",
              "    <tr>\n",
              "      <th>2</th>\n",
              "      <td>1</td>\n",
              "      <td>1</td>\n",
              "      <td>2</td>\n",
              "      <td>70.1</td>\n",
              "      <td>2.5</td>\n",
              "      <td>0.5</td>\n",
              "      <td>0.2</td>\n",
              "      <td>0.7</td>\n",
              "      <td>0</td>\n",
              "      <td>0.4</td>\n",
              "      <td>2019</td>\n",
              "    </tr>\n",
              "    <tr>\n",
              "      <th>3</th>\n",
              "      <td>1</td>\n",
              "      <td>1</td>\n",
              "      <td>3</td>\n",
              "      <td>67.5</td>\n",
              "      <td>2.5</td>\n",
              "      <td>0.5</td>\n",
              "      <td>0.2</td>\n",
              "      <td>0.7</td>\n",
              "      <td>0</td>\n",
              "      <td>0.4</td>\n",
              "      <td>2019</td>\n",
              "    </tr>\n",
              "    <tr>\n",
              "      <th>4</th>\n",
              "      <td>1</td>\n",
              "      <td>1</td>\n",
              "      <td>4</td>\n",
              "      <td>68.8</td>\n",
              "      <td>1.5</td>\n",
              "      <td>0.4</td>\n",
              "      <td>0.1</td>\n",
              "      <td>0.6</td>\n",
              "      <td>0</td>\n",
              "      <td>0.4</td>\n",
              "      <td>2019</td>\n",
              "    </tr>\n",
              "  </tbody>\n",
              "</table>\n",
              "</div>\n",
              "      <button class=\"colab-df-convert\" onclick=\"convertToInteractive('df-40ce76e4-969e-41b3-bdc3-9e1e1c08614c')\"\n",
              "              title=\"Convert this dataframe to an interactive table.\"\n",
              "              style=\"display:none;\">\n",
              "        \n",
              "  <svg xmlns=\"http://www.w3.org/2000/svg\" height=\"24px\"viewBox=\"0 0 24 24\"\n",
              "       width=\"24px\">\n",
              "    <path d=\"M0 0h24v24H0V0z\" fill=\"none\"/>\n",
              "    <path d=\"M18.56 5.44l.94 2.06.94-2.06 2.06-.94-2.06-.94-.94-2.06-.94 2.06-2.06.94zm-11 1L8.5 8.5l.94-2.06 2.06-.94-2.06-.94L8.5 2.5l-.94 2.06-2.06.94zm10 10l.94 2.06.94-2.06 2.06-.94-2.06-.94-.94-2.06-.94 2.06-2.06.94z\"/><path d=\"M17.41 7.96l-1.37-1.37c-.4-.4-.92-.59-1.43-.59-.52 0-1.04.2-1.43.59L10.3 9.45l-7.72 7.72c-.78.78-.78 2.05 0 2.83L4 21.41c.39.39.9.59 1.41.59.51 0 1.02-.2 1.41-.59l7.78-7.78 2.81-2.81c.8-.78.8-2.07 0-2.86zM5.41 20L4 18.59l7.72-7.72 1.47 1.35L5.41 20z\"/>\n",
              "  </svg>\n",
              "      </button>\n",
              "      \n",
              "  <style>\n",
              "    .colab-df-container {\n",
              "      display:flex;\n",
              "      flex-wrap:wrap;\n",
              "      gap: 12px;\n",
              "    }\n",
              "\n",
              "    .colab-df-convert {\n",
              "      background-color: #E8F0FE;\n",
              "      border: none;\n",
              "      border-radius: 50%;\n",
              "      cursor: pointer;\n",
              "      display: none;\n",
              "      fill: #1967D2;\n",
              "      height: 32px;\n",
              "      padding: 0 0 0 0;\n",
              "      width: 32px;\n",
              "    }\n",
              "\n",
              "    .colab-df-convert:hover {\n",
              "      background-color: #E2EBFA;\n",
              "      box-shadow: 0px 1px 2px rgba(60, 64, 67, 0.3), 0px 1px 3px 1px rgba(60, 64, 67, 0.15);\n",
              "      fill: #174EA6;\n",
              "    }\n",
              "\n",
              "    [theme=dark] .colab-df-convert {\n",
              "      background-color: #3B4455;\n",
              "      fill: #D2E3FC;\n",
              "    }\n",
              "\n",
              "    [theme=dark] .colab-df-convert:hover {\n",
              "      background-color: #434B5C;\n",
              "      box-shadow: 0px 1px 3px 1px rgba(0, 0, 0, 0.15);\n",
              "      filter: drop-shadow(0px 1px 2px rgba(0, 0, 0, 0.3));\n",
              "      fill: #FFFFFF;\n",
              "    }\n",
              "  </style>\n",
              "\n",
              "      <script>\n",
              "        const buttonEl =\n",
              "          document.querySelector('#df-40ce76e4-969e-41b3-bdc3-9e1e1c08614c button.colab-df-convert');\n",
              "        buttonEl.style.display =\n",
              "          google.colab.kernel.accessAllowed ? 'block' : 'none';\n",
              "\n",
              "        async function convertToInteractive(key) {\n",
              "          const element = document.querySelector('#df-40ce76e4-969e-41b3-bdc3-9e1e1c08614c');\n",
              "          const dataTable =\n",
              "            await google.colab.kernel.invokeFunction('convertToInteractive',\n",
              "                                                     [key], {});\n",
              "          if (!dataTable) return;\n",
              "\n",
              "          const docLinkHtml = 'Like what you see? Visit the ' +\n",
              "            '<a target=\"_blank\" href=https://colab.research.google.com/notebooks/data_table.ipynb>data table notebook</a>'\n",
              "            + ' to learn more about interactive tables.';\n",
              "          element.innerHTML = '';\n",
              "          dataTable['output_type'] = 'display_data';\n",
              "          await google.colab.output.renderOutput(dataTable, element);\n",
              "          const docLink = document.createElement('div');\n",
              "          docLink.innerHTML = docLinkHtml;\n",
              "          element.appendChild(docLink);\n",
              "        }\n",
              "      </script>\n",
              "    </div>\n",
              "  </div>\n",
              "  "
            ]
          },
          "metadata": {},
          "execution_count": 3
        }
      ],
      "source": [
        "#VOCs 데이터 불러오기\n",
        "\n",
        "voc_data = pd.DataFrame()\n",
        "year = [2019, 2020, 2021]\n",
        "for k in year:\n",
        "  for f in glob.glob(f'/content/drive/My Drive/final_paper/busan_traffic_/voc_{k}.xlsx'):\n",
        "      df = pd.read_excel(f, index_col = 0)\n",
        "      # 월, 일, 시간만 나와있어 연도 추가해 연월일시간의 새로운 date column 생성 예정\n",
        "      df['연도'] = k\n",
        "      voc_data = voc_data.append(df, ignore_index=True)\n",
        "\n",
        "voc_data.head()"
      ]
    },
    {
      "cell_type": "code",
      "source": [
        "# 에러코드가 N/A값으로 처리되지 않아 2개\n",
        "voc_data.isnull().sum().sum()"
      ],
      "metadata": {
        "id": "u0oGleerXdH6",
        "outputId": "5d1e67d4-0972-40d6-fa65-2b6ed087228b",
        "colab": {
          "base_uri": "https://localhost:8080/"
        }
      },
      "execution_count": 4,
      "outputs": [
        {
          "output_type": "execute_result",
          "data": {
            "text/plain": [
              "2"
            ]
          },
          "metadata": {},
          "execution_count": 4
        }
      ]
    },
    {
      "cell_type": "code",
      "source": [
        "#voc_data 내의 에러코드를 정의한 후 에러코드를 N/A값으로 변경하기 -> 이후에 drop 예정\n",
        "error_ms = ['동불', '점검', '동작불가', '전원단절', '전단', '가중', 'dks ehl']\n",
        "\n",
        "for e in error_ms:\n",
        "  for f in voc_data.columns:\n",
        "    voc_data[f] = voc_data[f].replace(e, np.nan)"
      ],
      "metadata": {
        "id": "qVWMowdwSNJK"
      },
      "execution_count": 5,
      "outputs": []
    },
    {
      "cell_type": "code",
      "source": [
        "# 에러코드 N/A로 바꾼 후 늘어난 N/A 값\n",
        "voc_data.isnull().sum().sum()"
      ],
      "metadata": {
        "colab": {
          "base_uri": "https://localhost:8080/"
        },
        "id": "GbrhIXLZW-nC",
        "outputId": "8bf81c03-fe52-40df-b27e-6eb19146b21e"
      },
      "execution_count": 6,
      "outputs": [
        {
          "output_type": "execute_result",
          "data": {
            "text/plain": [
              "9926"
            ]
          },
          "metadata": {},
          "execution_count": 6
        }
      ]
    },
    {
      "cell_type": "markdown",
      "metadata": {
        "id": "qvd7dE5ccPLv"
      },
      "source": [
        "### 기상 & 대기질 데이터"
      ]
    },
    {
      "cell_type": "markdown",
      "source": [
        "#### 대기질 데이터"
      ],
      "metadata": {
        "id": "FipvO7De2L_R"
      }
    },
    {
      "cell_type": "code",
      "execution_count": 7,
      "metadata": {
        "colab": {
          "base_uri": "https://localhost:8080/"
        },
        "id": "pgxRjh3ccPLy",
        "outputId": "664b6b93-7288-4207-c855-fbe6f4850e50"
      },
      "outputs": [
        {
          "output_type": "stream",
          "name": "stdout",
          "text": [
            "Index(['측정일시', 'SO2', 'O3', 'NO2', 'PM25'], dtype='object')\n",
            "Index(['date', 'PM25', 'O3', 'NO2', 'SO2'], dtype='object')\n"
          ]
        },
        {
          "output_type": "execute_result",
          "data": {
            "text/plain": [
              "((17544, 5), (8760, 5))"
            ]
          },
          "metadata": {},
          "execution_count": 7
        }
      ],
      "source": [
        "# AIR DATA (BUSAN 2016-2020) 대기질 데이터\n",
        "air = pd.read_excel('/content/drive/My Drive/final_paper/busan_traffic_/air_data_traffic.xlsx', index_col = 0)\n",
        "air_2021 = pd.read_excel('/content/drive/My Drive/final_paper/busan_traffic_/air_2021_df.xlsx', index_col = 0)\n",
        "print(air.columns)\n",
        "print(air_2021.columns)\n",
        "air.shape, air_2021.shape"
      ]
    },
    {
      "cell_type": "code",
      "execution_count": 8,
      "metadata": {
        "id": "Za_BVBTvcPL3"
      },
      "outputs": [],
      "source": [
        "# 2021 데이터에 맞추어 columns 수정하기\n",
        "air.columns = ['date','SO2','O3','NO2','PM25']\n",
        "air = air[['date','PM25','O3','NO2','SO2']]"
      ]
    },
    {
      "cell_type": "code",
      "source": [
        "# 2016-2021까지 데이터 합치기\n",
        "air_data = pd.concat([air, air_2021]).reset_index().drop('index', axis = 1)\n",
        "air_data.head(3)"
      ],
      "metadata": {
        "colab": {
          "base_uri": "https://localhost:8080/",
          "height": 143
        },
        "id": "w5FgH0Uc2cNQ",
        "outputId": "d4a425a1-fec0-4d45-db74-0a0c79f8f28a"
      },
      "execution_count": 9,
      "outputs": [
        {
          "output_type": "execute_result",
          "data": {
            "text/plain": [
              "         date  PM25     O3    NO2    SO2\n",
              "0  2019010101  23.0  0.010  0.025  0.003\n",
              "1  2019010102  21.0  0.012  0.021  0.003\n",
              "2  2019010103  19.0  0.012  0.021  0.003"
            ],
            "text/html": [
              "\n",
              "  <div id=\"df-dffaed43-9bca-43b2-849a-32332663945a\">\n",
              "    <div class=\"colab-df-container\">\n",
              "      <div>\n",
              "<style scoped>\n",
              "    .dataframe tbody tr th:only-of-type {\n",
              "        vertical-align: middle;\n",
              "    }\n",
              "\n",
              "    .dataframe tbody tr th {\n",
              "        vertical-align: top;\n",
              "    }\n",
              "\n",
              "    .dataframe thead th {\n",
              "        text-align: right;\n",
              "    }\n",
              "</style>\n",
              "<table border=\"1\" class=\"dataframe\">\n",
              "  <thead>\n",
              "    <tr style=\"text-align: right;\">\n",
              "      <th></th>\n",
              "      <th>date</th>\n",
              "      <th>PM25</th>\n",
              "      <th>O3</th>\n",
              "      <th>NO2</th>\n",
              "      <th>SO2</th>\n",
              "    </tr>\n",
              "  </thead>\n",
              "  <tbody>\n",
              "    <tr>\n",
              "      <th>0</th>\n",
              "      <td>2019010101</td>\n",
              "      <td>23.0</td>\n",
              "      <td>0.010</td>\n",
              "      <td>0.025</td>\n",
              "      <td>0.003</td>\n",
              "    </tr>\n",
              "    <tr>\n",
              "      <th>1</th>\n",
              "      <td>2019010102</td>\n",
              "      <td>21.0</td>\n",
              "      <td>0.012</td>\n",
              "      <td>0.021</td>\n",
              "      <td>0.003</td>\n",
              "    </tr>\n",
              "    <tr>\n",
              "      <th>2</th>\n",
              "      <td>2019010103</td>\n",
              "      <td>19.0</td>\n",
              "      <td>0.012</td>\n",
              "      <td>0.021</td>\n",
              "      <td>0.003</td>\n",
              "    </tr>\n",
              "  </tbody>\n",
              "</table>\n",
              "</div>\n",
              "      <button class=\"colab-df-convert\" onclick=\"convertToInteractive('df-dffaed43-9bca-43b2-849a-32332663945a')\"\n",
              "              title=\"Convert this dataframe to an interactive table.\"\n",
              "              style=\"display:none;\">\n",
              "        \n",
              "  <svg xmlns=\"http://www.w3.org/2000/svg\" height=\"24px\"viewBox=\"0 0 24 24\"\n",
              "       width=\"24px\">\n",
              "    <path d=\"M0 0h24v24H0V0z\" fill=\"none\"/>\n",
              "    <path d=\"M18.56 5.44l.94 2.06.94-2.06 2.06-.94-2.06-.94-.94-2.06-.94 2.06-2.06.94zm-11 1L8.5 8.5l.94-2.06 2.06-.94-2.06-.94L8.5 2.5l-.94 2.06-2.06.94zm10 10l.94 2.06.94-2.06 2.06-.94-2.06-.94-.94-2.06-.94 2.06-2.06.94z\"/><path d=\"M17.41 7.96l-1.37-1.37c-.4-.4-.92-.59-1.43-.59-.52 0-1.04.2-1.43.59L10.3 9.45l-7.72 7.72c-.78.78-.78 2.05 0 2.83L4 21.41c.39.39.9.59 1.41.59.51 0 1.02-.2 1.41-.59l7.78-7.78 2.81-2.81c.8-.78.8-2.07 0-2.86zM5.41 20L4 18.59l7.72-7.72 1.47 1.35L5.41 20z\"/>\n",
              "  </svg>\n",
              "      </button>\n",
              "      \n",
              "  <style>\n",
              "    .colab-df-container {\n",
              "      display:flex;\n",
              "      flex-wrap:wrap;\n",
              "      gap: 12px;\n",
              "    }\n",
              "\n",
              "    .colab-df-convert {\n",
              "      background-color: #E8F0FE;\n",
              "      border: none;\n",
              "      border-radius: 50%;\n",
              "      cursor: pointer;\n",
              "      display: none;\n",
              "      fill: #1967D2;\n",
              "      height: 32px;\n",
              "      padding: 0 0 0 0;\n",
              "      width: 32px;\n",
              "    }\n",
              "\n",
              "    .colab-df-convert:hover {\n",
              "      background-color: #E2EBFA;\n",
              "      box-shadow: 0px 1px 2px rgba(60, 64, 67, 0.3), 0px 1px 3px 1px rgba(60, 64, 67, 0.15);\n",
              "      fill: #174EA6;\n",
              "    }\n",
              "\n",
              "    [theme=dark] .colab-df-convert {\n",
              "      background-color: #3B4455;\n",
              "      fill: #D2E3FC;\n",
              "    }\n",
              "\n",
              "    [theme=dark] .colab-df-convert:hover {\n",
              "      background-color: #434B5C;\n",
              "      box-shadow: 0px 1px 3px 1px rgba(0, 0, 0, 0.15);\n",
              "      filter: drop-shadow(0px 1px 2px rgba(0, 0, 0, 0.3));\n",
              "      fill: #FFFFFF;\n",
              "    }\n",
              "  </style>\n",
              "\n",
              "      <script>\n",
              "        const buttonEl =\n",
              "          document.querySelector('#df-dffaed43-9bca-43b2-849a-32332663945a button.colab-df-convert');\n",
              "        buttonEl.style.display =\n",
              "          google.colab.kernel.accessAllowed ? 'block' : 'none';\n",
              "\n",
              "        async function convertToInteractive(key) {\n",
              "          const element = document.querySelector('#df-dffaed43-9bca-43b2-849a-32332663945a');\n",
              "          const dataTable =\n",
              "            await google.colab.kernel.invokeFunction('convertToInteractive',\n",
              "                                                     [key], {});\n",
              "          if (!dataTable) return;\n",
              "\n",
              "          const docLinkHtml = 'Like what you see? Visit the ' +\n",
              "            '<a target=\"_blank\" href=https://colab.research.google.com/notebooks/data_table.ipynb>data table notebook</a>'\n",
              "            + ' to learn more about interactive tables.';\n",
              "          element.innerHTML = '';\n",
              "          dataTable['output_type'] = 'display_data';\n",
              "          await google.colab.output.renderOutput(dataTable, element);\n",
              "          const docLink = document.createElement('div');\n",
              "          docLink.innerHTML = docLinkHtml;\n",
              "          element.appendChild(docLink);\n",
              "        }\n",
              "      </script>\n",
              "    </div>\n",
              "  </div>\n",
              "  "
            ]
          },
          "metadata": {},
          "execution_count": 9
        }
      ]
    },
    {
      "cell_type": "code",
      "execution_count": 10,
      "metadata": {
        "colab": {
          "base_uri": "https://localhost:8080/",
          "height": 143
        },
        "id": "VnLjPH7DcPL3",
        "outputId": "46d5ad43-93fa-4416-b39f-ce975e4e8e9d"
      },
      "outputs": [
        {
          "output_type": "execute_result",
          "data": {
            "text/plain": [
              "         date  PM25     O3    NO2    SO2  tomm_pm\n",
              "0  2019010101  23.0  0.010  0.025  0.003     22.0\n",
              "1  2019010102  21.0  0.012  0.021  0.003     27.0\n",
              "2  2019010103  19.0  0.012  0.021  0.003     21.0"
            ],
            "text/html": [
              "\n",
              "  <div id=\"df-06c8e8b0-d022-4e93-a761-2144e98bd805\">\n",
              "    <div class=\"colab-df-container\">\n",
              "      <div>\n",
              "<style scoped>\n",
              "    .dataframe tbody tr th:only-of-type {\n",
              "        vertical-align: middle;\n",
              "    }\n",
              "\n",
              "    .dataframe tbody tr th {\n",
              "        vertical-align: top;\n",
              "    }\n",
              "\n",
              "    .dataframe thead th {\n",
              "        text-align: right;\n",
              "    }\n",
              "</style>\n",
              "<table border=\"1\" class=\"dataframe\">\n",
              "  <thead>\n",
              "    <tr style=\"text-align: right;\">\n",
              "      <th></th>\n",
              "      <th>date</th>\n",
              "      <th>PM25</th>\n",
              "      <th>O3</th>\n",
              "      <th>NO2</th>\n",
              "      <th>SO2</th>\n",
              "      <th>tomm_pm</th>\n",
              "    </tr>\n",
              "  </thead>\n",
              "  <tbody>\n",
              "    <tr>\n",
              "      <th>0</th>\n",
              "      <td>2019010101</td>\n",
              "      <td>23.0</td>\n",
              "      <td>0.010</td>\n",
              "      <td>0.025</td>\n",
              "      <td>0.003</td>\n",
              "      <td>22.0</td>\n",
              "    </tr>\n",
              "    <tr>\n",
              "      <th>1</th>\n",
              "      <td>2019010102</td>\n",
              "      <td>21.0</td>\n",
              "      <td>0.012</td>\n",
              "      <td>0.021</td>\n",
              "      <td>0.003</td>\n",
              "      <td>27.0</td>\n",
              "    </tr>\n",
              "    <tr>\n",
              "      <th>2</th>\n",
              "      <td>2019010103</td>\n",
              "      <td>19.0</td>\n",
              "      <td>0.012</td>\n",
              "      <td>0.021</td>\n",
              "      <td>0.003</td>\n",
              "      <td>21.0</td>\n",
              "    </tr>\n",
              "  </tbody>\n",
              "</table>\n",
              "</div>\n",
              "      <button class=\"colab-df-convert\" onclick=\"convertToInteractive('df-06c8e8b0-d022-4e93-a761-2144e98bd805')\"\n",
              "              title=\"Convert this dataframe to an interactive table.\"\n",
              "              style=\"display:none;\">\n",
              "        \n",
              "  <svg xmlns=\"http://www.w3.org/2000/svg\" height=\"24px\"viewBox=\"0 0 24 24\"\n",
              "       width=\"24px\">\n",
              "    <path d=\"M0 0h24v24H0V0z\" fill=\"none\"/>\n",
              "    <path d=\"M18.56 5.44l.94 2.06.94-2.06 2.06-.94-2.06-.94-.94-2.06-.94 2.06-2.06.94zm-11 1L8.5 8.5l.94-2.06 2.06-.94-2.06-.94L8.5 2.5l-.94 2.06-2.06.94zm10 10l.94 2.06.94-2.06 2.06-.94-2.06-.94-.94-2.06-.94 2.06-2.06.94z\"/><path d=\"M17.41 7.96l-1.37-1.37c-.4-.4-.92-.59-1.43-.59-.52 0-1.04.2-1.43.59L10.3 9.45l-7.72 7.72c-.78.78-.78 2.05 0 2.83L4 21.41c.39.39.9.59 1.41.59.51 0 1.02-.2 1.41-.59l7.78-7.78 2.81-2.81c.8-.78.8-2.07 0-2.86zM5.41 20L4 18.59l7.72-7.72 1.47 1.35L5.41 20z\"/>\n",
              "  </svg>\n",
              "      </button>\n",
              "      \n",
              "  <style>\n",
              "    .colab-df-container {\n",
              "      display:flex;\n",
              "      flex-wrap:wrap;\n",
              "      gap: 12px;\n",
              "    }\n",
              "\n",
              "    .colab-df-convert {\n",
              "      background-color: #E8F0FE;\n",
              "      border: none;\n",
              "      border-radius: 50%;\n",
              "      cursor: pointer;\n",
              "      display: none;\n",
              "      fill: #1967D2;\n",
              "      height: 32px;\n",
              "      padding: 0 0 0 0;\n",
              "      width: 32px;\n",
              "    }\n",
              "\n",
              "    .colab-df-convert:hover {\n",
              "      background-color: #E2EBFA;\n",
              "      box-shadow: 0px 1px 2px rgba(60, 64, 67, 0.3), 0px 1px 3px 1px rgba(60, 64, 67, 0.15);\n",
              "      fill: #174EA6;\n",
              "    }\n",
              "\n",
              "    [theme=dark] .colab-df-convert {\n",
              "      background-color: #3B4455;\n",
              "      fill: #D2E3FC;\n",
              "    }\n",
              "\n",
              "    [theme=dark] .colab-df-convert:hover {\n",
              "      background-color: #434B5C;\n",
              "      box-shadow: 0px 1px 3px 1px rgba(0, 0, 0, 0.15);\n",
              "      filter: drop-shadow(0px 1px 2px rgba(0, 0, 0, 0.3));\n",
              "      fill: #FFFFFF;\n",
              "    }\n",
              "  </style>\n",
              "\n",
              "      <script>\n",
              "        const buttonEl =\n",
              "          document.querySelector('#df-06c8e8b0-d022-4e93-a761-2144e98bd805 button.colab-df-convert');\n",
              "        buttonEl.style.display =\n",
              "          google.colab.kernel.accessAllowed ? 'block' : 'none';\n",
              "\n",
              "        async function convertToInteractive(key) {\n",
              "          const element = document.querySelector('#df-06c8e8b0-d022-4e93-a761-2144e98bd805');\n",
              "          const dataTable =\n",
              "            await google.colab.kernel.invokeFunction('convertToInteractive',\n",
              "                                                     [key], {});\n",
              "          if (!dataTable) return;\n",
              "\n",
              "          const docLinkHtml = 'Like what you see? Visit the ' +\n",
              "            '<a target=\"_blank\" href=https://colab.research.google.com/notebooks/data_table.ipynb>data table notebook</a>'\n",
              "            + ' to learn more about interactive tables.';\n",
              "          element.innerHTML = '';\n",
              "          dataTable['output_type'] = 'display_data';\n",
              "          await google.colab.output.renderOutput(dataTable, element);\n",
              "          const docLink = document.createElement('div');\n",
              "          docLink.innerHTML = docLinkHtml;\n",
              "          element.appendChild(docLink);\n",
              "        }\n",
              "      </script>\n",
              "    </div>\n",
              "  </div>\n",
              "  "
            ]
          },
          "metadata": {},
          "execution_count": 10
        }
      ],
      "source": [
        "#DNN에 이용할 다음날 PM2.5 -> 새로운 변수로 생성\n",
        "tomm_pm = air_data['PM25'][24:].reset_index()\n",
        "air_data['tomm_pm'] = tomm_pm['PM25']\n",
        "air_data.head(3)"
      ]
    },
    {
      "cell_type": "markdown",
      "metadata": {
        "id": "url7y3z-cPL4"
      },
      "source": [
        "###### ASOS DATA"
      ]
    },
    {
      "cell_type": "code",
      "source": [
        "# ASOS DATA (Busan) 기상데이터\n",
        "\n",
        "all_data = pd.DataFrame()\n",
        "for f in glob.glob('/content/drive/My Drive/final_paper/busan_traffic_/OBS_BUSAN_*.xlsx'):\n",
        "    df = pd.read_excel(f)\n",
        "    all_data = all_data.append(df, ignore_index=True)\n",
        "\n",
        "all_data.head()"
      ],
      "metadata": {
        "colab": {
          "base_uri": "https://localhost:8080/",
          "height": 354
        },
        "id": "jA0ZtU-22Ktf",
        "outputId": "0a29de08-acec-4241-ecbf-c4d2474fc2aa"
      },
      "execution_count": 11,
      "outputs": [
        {
          "output_type": "execute_result",
          "data": {
            "text/plain": [
              "    지점 지점명                  일시  기온(°C)  강수량(mm)  풍속(m/s)  풍향(16방위)  습도(%)  \\\n",
              "0  152  울산 2016-01-01 00:00:00     1.7      NaN      1.4     320.0   62.0   \n",
              "1  152  울산 2016-01-01 01:00:00     0.4      NaN      1.4     290.0   69.0   \n",
              "2  152  울산 2016-01-01 02:00:00    -0.1      NaN      1.1     270.0   71.0   \n",
              "3  152  울산 2016-01-01 03:00:00     0.0      NaN      1.4     320.0   69.0   \n",
              "4  152  울산 2016-01-01 04:00:00    -0.7      NaN      1.3     290.0   74.0   \n",
              "\n",
              "   증기압(hPa)  이슬점온도(°C)  현지기압(hPa)  해면기압(hPa)  일조(hr)  일사(MJ/m2)  전운량(10분위)  \\\n",
              "0       4.3       -4.8     1028.0     1032.4     NaN        NaN        0.0   \n",
              "1       4.3       -4.6     1027.7     1032.1     NaN        NaN        NaN   \n",
              "2       4.3       -4.7     1027.6     1032.0     NaN        NaN        NaN   \n",
              "3       4.2       -5.0     1027.5     1031.9     NaN        NaN        0.0   \n",
              "4       4.3       -4.7     1027.5     1031.9     NaN        NaN        0.0   \n",
              "\n",
              "   중하층운량(10분위)  최저운고(100m )  시정(10m)  \n",
              "0          0.0          NaN   1100.0  \n",
              "1          NaN          NaN    900.0  \n",
              "2          NaN          NaN    900.0  \n",
              "3          0.0          NaN    900.0  \n",
              "4          0.0          NaN    900.0  "
            ],
            "text/html": [
              "\n",
              "  <div id=\"df-c5297155-9a52-44ef-a2b7-e923f3e3c7b9\">\n",
              "    <div class=\"colab-df-container\">\n",
              "      <div>\n",
              "<style scoped>\n",
              "    .dataframe tbody tr th:only-of-type {\n",
              "        vertical-align: middle;\n",
              "    }\n",
              "\n",
              "    .dataframe tbody tr th {\n",
              "        vertical-align: top;\n",
              "    }\n",
              "\n",
              "    .dataframe thead th {\n",
              "        text-align: right;\n",
              "    }\n",
              "</style>\n",
              "<table border=\"1\" class=\"dataframe\">\n",
              "  <thead>\n",
              "    <tr style=\"text-align: right;\">\n",
              "      <th></th>\n",
              "      <th>지점</th>\n",
              "      <th>지점명</th>\n",
              "      <th>일시</th>\n",
              "      <th>기온(°C)</th>\n",
              "      <th>강수량(mm)</th>\n",
              "      <th>풍속(m/s)</th>\n",
              "      <th>풍향(16방위)</th>\n",
              "      <th>습도(%)</th>\n",
              "      <th>증기압(hPa)</th>\n",
              "      <th>이슬점온도(°C)</th>\n",
              "      <th>현지기압(hPa)</th>\n",
              "      <th>해면기압(hPa)</th>\n",
              "      <th>일조(hr)</th>\n",
              "      <th>일사(MJ/m2)</th>\n",
              "      <th>전운량(10분위)</th>\n",
              "      <th>중하층운량(10분위)</th>\n",
              "      <th>최저운고(100m )</th>\n",
              "      <th>시정(10m)</th>\n",
              "    </tr>\n",
              "  </thead>\n",
              "  <tbody>\n",
              "    <tr>\n",
              "      <th>0</th>\n",
              "      <td>152</td>\n",
              "      <td>울산</td>\n",
              "      <td>2016-01-01 00:00:00</td>\n",
              "      <td>1.7</td>\n",
              "      <td>NaN</td>\n",
              "      <td>1.4</td>\n",
              "      <td>320.0</td>\n",
              "      <td>62.0</td>\n",
              "      <td>4.3</td>\n",
              "      <td>-4.8</td>\n",
              "      <td>1028.0</td>\n",
              "      <td>1032.4</td>\n",
              "      <td>NaN</td>\n",
              "      <td>NaN</td>\n",
              "      <td>0.0</td>\n",
              "      <td>0.0</td>\n",
              "      <td>NaN</td>\n",
              "      <td>1100.0</td>\n",
              "    </tr>\n",
              "    <tr>\n",
              "      <th>1</th>\n",
              "      <td>152</td>\n",
              "      <td>울산</td>\n",
              "      <td>2016-01-01 01:00:00</td>\n",
              "      <td>0.4</td>\n",
              "      <td>NaN</td>\n",
              "      <td>1.4</td>\n",
              "      <td>290.0</td>\n",
              "      <td>69.0</td>\n",
              "      <td>4.3</td>\n",
              "      <td>-4.6</td>\n",
              "      <td>1027.7</td>\n",
              "      <td>1032.1</td>\n",
              "      <td>NaN</td>\n",
              "      <td>NaN</td>\n",
              "      <td>NaN</td>\n",
              "      <td>NaN</td>\n",
              "      <td>NaN</td>\n",
              "      <td>900.0</td>\n",
              "    </tr>\n",
              "    <tr>\n",
              "      <th>2</th>\n",
              "      <td>152</td>\n",
              "      <td>울산</td>\n",
              "      <td>2016-01-01 02:00:00</td>\n",
              "      <td>-0.1</td>\n",
              "      <td>NaN</td>\n",
              "      <td>1.1</td>\n",
              "      <td>270.0</td>\n",
              "      <td>71.0</td>\n",
              "      <td>4.3</td>\n",
              "      <td>-4.7</td>\n",
              "      <td>1027.6</td>\n",
              "      <td>1032.0</td>\n",
              "      <td>NaN</td>\n",
              "      <td>NaN</td>\n",
              "      <td>NaN</td>\n",
              "      <td>NaN</td>\n",
              "      <td>NaN</td>\n",
              "      <td>900.0</td>\n",
              "    </tr>\n",
              "    <tr>\n",
              "      <th>3</th>\n",
              "      <td>152</td>\n",
              "      <td>울산</td>\n",
              "      <td>2016-01-01 03:00:00</td>\n",
              "      <td>0.0</td>\n",
              "      <td>NaN</td>\n",
              "      <td>1.4</td>\n",
              "      <td>320.0</td>\n",
              "      <td>69.0</td>\n",
              "      <td>4.2</td>\n",
              "      <td>-5.0</td>\n",
              "      <td>1027.5</td>\n",
              "      <td>1031.9</td>\n",
              "      <td>NaN</td>\n",
              "      <td>NaN</td>\n",
              "      <td>0.0</td>\n",
              "      <td>0.0</td>\n",
              "      <td>NaN</td>\n",
              "      <td>900.0</td>\n",
              "    </tr>\n",
              "    <tr>\n",
              "      <th>4</th>\n",
              "      <td>152</td>\n",
              "      <td>울산</td>\n",
              "      <td>2016-01-01 04:00:00</td>\n",
              "      <td>-0.7</td>\n",
              "      <td>NaN</td>\n",
              "      <td>1.3</td>\n",
              "      <td>290.0</td>\n",
              "      <td>74.0</td>\n",
              "      <td>4.3</td>\n",
              "      <td>-4.7</td>\n",
              "      <td>1027.5</td>\n",
              "      <td>1031.9</td>\n",
              "      <td>NaN</td>\n",
              "      <td>NaN</td>\n",
              "      <td>0.0</td>\n",
              "      <td>0.0</td>\n",
              "      <td>NaN</td>\n",
              "      <td>900.0</td>\n",
              "    </tr>\n",
              "  </tbody>\n",
              "</table>\n",
              "</div>\n",
              "      <button class=\"colab-df-convert\" onclick=\"convertToInteractive('df-c5297155-9a52-44ef-a2b7-e923f3e3c7b9')\"\n",
              "              title=\"Convert this dataframe to an interactive table.\"\n",
              "              style=\"display:none;\">\n",
              "        \n",
              "  <svg xmlns=\"http://www.w3.org/2000/svg\" height=\"24px\"viewBox=\"0 0 24 24\"\n",
              "       width=\"24px\">\n",
              "    <path d=\"M0 0h24v24H0V0z\" fill=\"none\"/>\n",
              "    <path d=\"M18.56 5.44l.94 2.06.94-2.06 2.06-.94-2.06-.94-.94-2.06-.94 2.06-2.06.94zm-11 1L8.5 8.5l.94-2.06 2.06-.94-2.06-.94L8.5 2.5l-.94 2.06-2.06.94zm10 10l.94 2.06.94-2.06 2.06-.94-2.06-.94-.94-2.06-.94 2.06-2.06.94z\"/><path d=\"M17.41 7.96l-1.37-1.37c-.4-.4-.92-.59-1.43-.59-.52 0-1.04.2-1.43.59L10.3 9.45l-7.72 7.72c-.78.78-.78 2.05 0 2.83L4 21.41c.39.39.9.59 1.41.59.51 0 1.02-.2 1.41-.59l7.78-7.78 2.81-2.81c.8-.78.8-2.07 0-2.86zM5.41 20L4 18.59l7.72-7.72 1.47 1.35L5.41 20z\"/>\n",
              "  </svg>\n",
              "      </button>\n",
              "      \n",
              "  <style>\n",
              "    .colab-df-container {\n",
              "      display:flex;\n",
              "      flex-wrap:wrap;\n",
              "      gap: 12px;\n",
              "    }\n",
              "\n",
              "    .colab-df-convert {\n",
              "      background-color: #E8F0FE;\n",
              "      border: none;\n",
              "      border-radius: 50%;\n",
              "      cursor: pointer;\n",
              "      display: none;\n",
              "      fill: #1967D2;\n",
              "      height: 32px;\n",
              "      padding: 0 0 0 0;\n",
              "      width: 32px;\n",
              "    }\n",
              "\n",
              "    .colab-df-convert:hover {\n",
              "      background-color: #E2EBFA;\n",
              "      box-shadow: 0px 1px 2px rgba(60, 64, 67, 0.3), 0px 1px 3px 1px rgba(60, 64, 67, 0.15);\n",
              "      fill: #174EA6;\n",
              "    }\n",
              "\n",
              "    [theme=dark] .colab-df-convert {\n",
              "      background-color: #3B4455;\n",
              "      fill: #D2E3FC;\n",
              "    }\n",
              "\n",
              "    [theme=dark] .colab-df-convert:hover {\n",
              "      background-color: #434B5C;\n",
              "      box-shadow: 0px 1px 3px 1px rgba(0, 0, 0, 0.15);\n",
              "      filter: drop-shadow(0px 1px 2px rgba(0, 0, 0, 0.3));\n",
              "      fill: #FFFFFF;\n",
              "    }\n",
              "  </style>\n",
              "\n",
              "      <script>\n",
              "        const buttonEl =\n",
              "          document.querySelector('#df-c5297155-9a52-44ef-a2b7-e923f3e3c7b9 button.colab-df-convert');\n",
              "        buttonEl.style.display =\n",
              "          google.colab.kernel.accessAllowed ? 'block' : 'none';\n",
              "\n",
              "        async function convertToInteractive(key) {\n",
              "          const element = document.querySelector('#df-c5297155-9a52-44ef-a2b7-e923f3e3c7b9');\n",
              "          const dataTable =\n",
              "            await google.colab.kernel.invokeFunction('convertToInteractive',\n",
              "                                                     [key], {});\n",
              "          if (!dataTable) return;\n",
              "\n",
              "          const docLinkHtml = 'Like what you see? Visit the ' +\n",
              "            '<a target=\"_blank\" href=https://colab.research.google.com/notebooks/data_table.ipynb>data table notebook</a>'\n",
              "            + ' to learn more about interactive tables.';\n",
              "          element.innerHTML = '';\n",
              "          dataTable['output_type'] = 'display_data';\n",
              "          await google.colab.output.renderOutput(dataTable, element);\n",
              "          const docLink = document.createElement('div');\n",
              "          docLink.innerHTML = docLinkHtml;\n",
              "          element.appendChild(docLink);\n",
              "        }\n",
              "      </script>\n",
              "    </div>\n",
              "  </div>\n",
              "  "
            ]
          },
          "metadata": {},
          "execution_count": 11
        }
      ]
    },
    {
      "cell_type": "code",
      "source": [
        "# 사용할 지점명만 선택(= 부산)\n",
        "asos_data = all_data[all_data['지점명'] == '부산']\n",
        "\n",
        "# 일시 dtype -> datetime으로 변경\n",
        "asos_data['일시'] = pd.to_datetime(asos_data['일시'])\n",
        "\n",
        "# 필요없는 컬럼 제거\n",
        "asos_data.drop(['지점', '지점명'], axis = 1, inplace = True)"
      ],
      "metadata": {
        "id": "bdGwPeyN3GpI"
      },
      "execution_count": 12,
      "outputs": []
    },
    {
      "cell_type": "code",
      "source": [
        "asos_data.isnull().sum()"
      ],
      "metadata": {
        "colab": {
          "base_uri": "https://localhost:8080/"
        },
        "id": "KFqHgIrh4cH0",
        "outputId": "db25d54b-1498-436f-cddc-fef38ee795f1"
      },
      "execution_count": 13,
      "outputs": [
        {
          "output_type": "execute_result",
          "data": {
            "text/plain": [
              "일시                 0\n",
              "기온(°C)             5\n",
              "강수량(mm)        47516\n",
              "풍속(m/s)           37\n",
              "풍향(16방위)          37\n",
              "습도(%)              0\n",
              "증기압(hPa)           4\n",
              "이슬점온도(°C)          6\n",
              "현지기압(hPa)          8\n",
              "해면기압(hPa)          5\n",
              "일조(hr)         23951\n",
              "일사(MJ/m2)      24856\n",
              "전운량(10분위)       5089\n",
              "중하층운량(10분위)     1241\n",
              "최저운고(100m )    27523\n",
              "시정(10m)           12\n",
              "dtype: int64"
            ]
          },
          "metadata": {},
          "execution_count": 13
        }
      ]
    },
    {
      "cell_type": "code",
      "execution_count": 14,
      "metadata": {
        "id": "Li9hETnocPL4"
      },
      "outputs": [],
      "source": [
        "# 전처리\n",
        "# 강수량, 일조, 일사, 전운량, 중하층운량, 최저운고의 경우 N/A값은 측정되지 않은 값이 아니라 강수량이 없거나 일조량이 없는 등의 0의 값을 의미\n",
        "# 따라서, N/A값을 0으로 변경\n",
        "data_to0 = ['강수량(mm)', '일조(hr)', '일사(MJ/m2)', '전운량(10분위)', '중하층운량(10분위)', '최저운고(100m )']\n",
        "\n",
        "for z in data_to0:\n",
        "  asos_data[z] = asos_data[z].fillna(0)\n",
        "\n",
        "# 기온, 풍속, 풍향, 증기압, 이슬점온도, 현지기압, 해면기압, 시정의 경우 측정에 오류가 생긴 값으로 선형보간법을 이용해 처리\n",
        "data_ton = ['기온(°C)', '풍속(m/s)', '풍향(16방위)', '증기압(hPa)', '이슬점온도(°C)', '현지기압(hPa)', '해면기압(hPa)', '시정(10m)']\n",
        "for n in data_ton:\n",
        "  asos_data[n] = asos_data[n].interpolate(how = 'linear')"
      ]
    },
    {
      "cell_type": "code",
      "source": [
        "# 결측치가 모두 처리되었는지 확인\n",
        "asos_data.isnull().sum()"
      ],
      "metadata": {
        "colab": {
          "base_uri": "https://localhost:8080/"
        },
        "id": "a1_wCr0n4a7w",
        "outputId": "1f6233e7-c1a6-4b09-c5fd-35f9e4f6d4ef"
      },
      "execution_count": 15,
      "outputs": [
        {
          "output_type": "execute_result",
          "data": {
            "text/plain": [
              "일시             0\n",
              "기온(°C)         0\n",
              "강수량(mm)        0\n",
              "풍속(m/s)        0\n",
              "풍향(16방위)       0\n",
              "습도(%)          0\n",
              "증기압(hPa)       0\n",
              "이슬점온도(°C)      0\n",
              "현지기압(hPa)      0\n",
              "해면기압(hPa)      0\n",
              "일조(hr)         0\n",
              "일사(MJ/m2)      0\n",
              "전운량(10분위)      0\n",
              "중하층운량(10분위)    0\n",
              "최저운고(100m )    0\n",
              "시정(10m)        0\n",
              "dtype: int64"
            ]
          },
          "metadata": {},
          "execution_count": 15
        }
      ]
    },
    {
      "cell_type": "code",
      "execution_count": 16,
      "metadata": {
        "id": "o6ccGIABhQmo",
        "colab": {
          "base_uri": "https://localhost:8080/",
          "height": 382
        },
        "outputId": "904406f9-e805-4d2e-8427-36a6b7baeb20"
      },
      "outputs": [
        {
          "output_type": "execute_result",
          "data": {
            "text/plain": [
              "             기온(°C)       강수량(mm)       풍속(m/s)      풍향(16방위)         습도(%)  \\\n",
              "count  52608.000000  52608.000000  52608.000000  52608.000000  52608.000000   \n",
              "mean      15.464665      0.195138      3.134044    178.438545     63.466906   \n",
              "std        8.516359      1.614325      1.764652    111.647222     20.673821   \n",
              "min      -12.200000      0.000000      0.000000      0.000000      7.000000   \n",
              "25%        9.000000      0.000000      1.900000     70.000000     48.000000   \n",
              "50%       16.200000      0.000000      2.900000    200.000000     65.000000   \n",
              "75%       22.200000      0.000000      4.000000    270.000000     80.000000   \n",
              "max       36.600000     78.800000     18.500000    360.000000    100.000000   \n",
              "\n",
              "           증기압(hPa)     이슬점온도(°C)     현지기압(hPa)     해면기압(hPa)        일조(hr)  \\\n",
              "count  52608.000000  52608.000000  52608.000000  52608.000000  52608.000000   \n",
              "mean      13.501487      7.870691   1007.472554   1015.724453      0.293180   \n",
              "std        8.825711     11.714975      7.396053      7.649179      0.427835   \n",
              "min        0.600000    -29.000000    952.200000    959.700000      0.000000   \n",
              "25%        6.000000     -0.200000   1001.900000   1009.900000      0.000000   \n",
              "50%       11.600000      9.100000   1007.600000   1015.900000      0.000000   \n",
              "75%       20.500000     17.900000   1013.200000   1021.700000      0.800000   \n",
              "max       36.300000     27.300000   1027.100000   1036.000000      1.000000   \n",
              "\n",
              "          일사(MJ/m2)     전운량(10분위)   중하층운량(10분위)   최저운고(100m )       시정(10m)  \n",
              "count  52608.000000  52608.000000  52608.000000  52608.000000  52608.000000  \n",
              "mean       0.601698      4.454798      2.786192      7.148304   2103.701025  \n",
              "std        0.925486      4.103320      3.470464     12.877324   1273.565305  \n",
              "min        0.000000      0.000000      0.000000    -99.000000      3.000000  \n",
              "25%        0.000000      0.000000      0.000000      0.000000   1400.000000  \n",
              "50%        0.000000      4.000000      0.000000      0.000000   1998.000000  \n",
              "75%        1.010000      9.000000      6.000000     10.000000   2000.000000  \n",
              "max        4.770000     10.000000     10.000000     76.000000   5000.000000  "
            ],
            "text/html": [
              "\n",
              "  <div id=\"df-b31c24b9-990c-4cd8-aa28-03f549d2422e\">\n",
              "    <div class=\"colab-df-container\">\n",
              "      <div>\n",
              "<style scoped>\n",
              "    .dataframe tbody tr th:only-of-type {\n",
              "        vertical-align: middle;\n",
              "    }\n",
              "\n",
              "    .dataframe tbody tr th {\n",
              "        vertical-align: top;\n",
              "    }\n",
              "\n",
              "    .dataframe thead th {\n",
              "        text-align: right;\n",
              "    }\n",
              "</style>\n",
              "<table border=\"1\" class=\"dataframe\">\n",
              "  <thead>\n",
              "    <tr style=\"text-align: right;\">\n",
              "      <th></th>\n",
              "      <th>기온(°C)</th>\n",
              "      <th>강수량(mm)</th>\n",
              "      <th>풍속(m/s)</th>\n",
              "      <th>풍향(16방위)</th>\n",
              "      <th>습도(%)</th>\n",
              "      <th>증기압(hPa)</th>\n",
              "      <th>이슬점온도(°C)</th>\n",
              "      <th>현지기압(hPa)</th>\n",
              "      <th>해면기압(hPa)</th>\n",
              "      <th>일조(hr)</th>\n",
              "      <th>일사(MJ/m2)</th>\n",
              "      <th>전운량(10분위)</th>\n",
              "      <th>중하층운량(10분위)</th>\n",
              "      <th>최저운고(100m )</th>\n",
              "      <th>시정(10m)</th>\n",
              "    </tr>\n",
              "  </thead>\n",
              "  <tbody>\n",
              "    <tr>\n",
              "      <th>count</th>\n",
              "      <td>52608.000000</td>\n",
              "      <td>52608.000000</td>\n",
              "      <td>52608.000000</td>\n",
              "      <td>52608.000000</td>\n",
              "      <td>52608.000000</td>\n",
              "      <td>52608.000000</td>\n",
              "      <td>52608.000000</td>\n",
              "      <td>52608.000000</td>\n",
              "      <td>52608.000000</td>\n",
              "      <td>52608.000000</td>\n",
              "      <td>52608.000000</td>\n",
              "      <td>52608.000000</td>\n",
              "      <td>52608.000000</td>\n",
              "      <td>52608.000000</td>\n",
              "      <td>52608.000000</td>\n",
              "    </tr>\n",
              "    <tr>\n",
              "      <th>mean</th>\n",
              "      <td>15.464665</td>\n",
              "      <td>0.195138</td>\n",
              "      <td>3.134044</td>\n",
              "      <td>178.438545</td>\n",
              "      <td>63.466906</td>\n",
              "      <td>13.501487</td>\n",
              "      <td>7.870691</td>\n",
              "      <td>1007.472554</td>\n",
              "      <td>1015.724453</td>\n",
              "      <td>0.293180</td>\n",
              "      <td>0.601698</td>\n",
              "      <td>4.454798</td>\n",
              "      <td>2.786192</td>\n",
              "      <td>7.148304</td>\n",
              "      <td>2103.701025</td>\n",
              "    </tr>\n",
              "    <tr>\n",
              "      <th>std</th>\n",
              "      <td>8.516359</td>\n",
              "      <td>1.614325</td>\n",
              "      <td>1.764652</td>\n",
              "      <td>111.647222</td>\n",
              "      <td>20.673821</td>\n",
              "      <td>8.825711</td>\n",
              "      <td>11.714975</td>\n",
              "      <td>7.396053</td>\n",
              "      <td>7.649179</td>\n",
              "      <td>0.427835</td>\n",
              "      <td>0.925486</td>\n",
              "      <td>4.103320</td>\n",
              "      <td>3.470464</td>\n",
              "      <td>12.877324</td>\n",
              "      <td>1273.565305</td>\n",
              "    </tr>\n",
              "    <tr>\n",
              "      <th>min</th>\n",
              "      <td>-12.200000</td>\n",
              "      <td>0.000000</td>\n",
              "      <td>0.000000</td>\n",
              "      <td>0.000000</td>\n",
              "      <td>7.000000</td>\n",
              "      <td>0.600000</td>\n",
              "      <td>-29.000000</td>\n",
              "      <td>952.200000</td>\n",
              "      <td>959.700000</td>\n",
              "      <td>0.000000</td>\n",
              "      <td>0.000000</td>\n",
              "      <td>0.000000</td>\n",
              "      <td>0.000000</td>\n",
              "      <td>-99.000000</td>\n",
              "      <td>3.000000</td>\n",
              "    </tr>\n",
              "    <tr>\n",
              "      <th>25%</th>\n",
              "      <td>9.000000</td>\n",
              "      <td>0.000000</td>\n",
              "      <td>1.900000</td>\n",
              "      <td>70.000000</td>\n",
              "      <td>48.000000</td>\n",
              "      <td>6.000000</td>\n",
              "      <td>-0.200000</td>\n",
              "      <td>1001.900000</td>\n",
              "      <td>1009.900000</td>\n",
              "      <td>0.000000</td>\n",
              "      <td>0.000000</td>\n",
              "      <td>0.000000</td>\n",
              "      <td>0.000000</td>\n",
              "      <td>0.000000</td>\n",
              "      <td>1400.000000</td>\n",
              "    </tr>\n",
              "    <tr>\n",
              "      <th>50%</th>\n",
              "      <td>16.200000</td>\n",
              "      <td>0.000000</td>\n",
              "      <td>2.900000</td>\n",
              "      <td>200.000000</td>\n",
              "      <td>65.000000</td>\n",
              "      <td>11.600000</td>\n",
              "      <td>9.100000</td>\n",
              "      <td>1007.600000</td>\n",
              "      <td>1015.900000</td>\n",
              "      <td>0.000000</td>\n",
              "      <td>0.000000</td>\n",
              "      <td>4.000000</td>\n",
              "      <td>0.000000</td>\n",
              "      <td>0.000000</td>\n",
              "      <td>1998.000000</td>\n",
              "    </tr>\n",
              "    <tr>\n",
              "      <th>75%</th>\n",
              "      <td>22.200000</td>\n",
              "      <td>0.000000</td>\n",
              "      <td>4.000000</td>\n",
              "      <td>270.000000</td>\n",
              "      <td>80.000000</td>\n",
              "      <td>20.500000</td>\n",
              "      <td>17.900000</td>\n",
              "      <td>1013.200000</td>\n",
              "      <td>1021.700000</td>\n",
              "      <td>0.800000</td>\n",
              "      <td>1.010000</td>\n",
              "      <td>9.000000</td>\n",
              "      <td>6.000000</td>\n",
              "      <td>10.000000</td>\n",
              "      <td>2000.000000</td>\n",
              "    </tr>\n",
              "    <tr>\n",
              "      <th>max</th>\n",
              "      <td>36.600000</td>\n",
              "      <td>78.800000</td>\n",
              "      <td>18.500000</td>\n",
              "      <td>360.000000</td>\n",
              "      <td>100.000000</td>\n",
              "      <td>36.300000</td>\n",
              "      <td>27.300000</td>\n",
              "      <td>1027.100000</td>\n",
              "      <td>1036.000000</td>\n",
              "      <td>1.000000</td>\n",
              "      <td>4.770000</td>\n",
              "      <td>10.000000</td>\n",
              "      <td>10.000000</td>\n",
              "      <td>76.000000</td>\n",
              "      <td>5000.000000</td>\n",
              "    </tr>\n",
              "  </tbody>\n",
              "</table>\n",
              "</div>\n",
              "      <button class=\"colab-df-convert\" onclick=\"convertToInteractive('df-b31c24b9-990c-4cd8-aa28-03f549d2422e')\"\n",
              "              title=\"Convert this dataframe to an interactive table.\"\n",
              "              style=\"display:none;\">\n",
              "        \n",
              "  <svg xmlns=\"http://www.w3.org/2000/svg\" height=\"24px\"viewBox=\"0 0 24 24\"\n",
              "       width=\"24px\">\n",
              "    <path d=\"M0 0h24v24H0V0z\" fill=\"none\"/>\n",
              "    <path d=\"M18.56 5.44l.94 2.06.94-2.06 2.06-.94-2.06-.94-.94-2.06-.94 2.06-2.06.94zm-11 1L8.5 8.5l.94-2.06 2.06-.94-2.06-.94L8.5 2.5l-.94 2.06-2.06.94zm10 10l.94 2.06.94-2.06 2.06-.94-2.06-.94-.94-2.06-.94 2.06-2.06.94z\"/><path d=\"M17.41 7.96l-1.37-1.37c-.4-.4-.92-.59-1.43-.59-.52 0-1.04.2-1.43.59L10.3 9.45l-7.72 7.72c-.78.78-.78 2.05 0 2.83L4 21.41c.39.39.9.59 1.41.59.51 0 1.02-.2 1.41-.59l7.78-7.78 2.81-2.81c.8-.78.8-2.07 0-2.86zM5.41 20L4 18.59l7.72-7.72 1.47 1.35L5.41 20z\"/>\n",
              "  </svg>\n",
              "      </button>\n",
              "      \n",
              "  <style>\n",
              "    .colab-df-container {\n",
              "      display:flex;\n",
              "      flex-wrap:wrap;\n",
              "      gap: 12px;\n",
              "    }\n",
              "\n",
              "    .colab-df-convert {\n",
              "      background-color: #E8F0FE;\n",
              "      border: none;\n",
              "      border-radius: 50%;\n",
              "      cursor: pointer;\n",
              "      display: none;\n",
              "      fill: #1967D2;\n",
              "      height: 32px;\n",
              "      padding: 0 0 0 0;\n",
              "      width: 32px;\n",
              "    }\n",
              "\n",
              "    .colab-df-convert:hover {\n",
              "      background-color: #E2EBFA;\n",
              "      box-shadow: 0px 1px 2px rgba(60, 64, 67, 0.3), 0px 1px 3px 1px rgba(60, 64, 67, 0.15);\n",
              "      fill: #174EA6;\n",
              "    }\n",
              "\n",
              "    [theme=dark] .colab-df-convert {\n",
              "      background-color: #3B4455;\n",
              "      fill: #D2E3FC;\n",
              "    }\n",
              "\n",
              "    [theme=dark] .colab-df-convert:hover {\n",
              "      background-color: #434B5C;\n",
              "      box-shadow: 0px 1px 3px 1px rgba(0, 0, 0, 0.15);\n",
              "      filter: drop-shadow(0px 1px 2px rgba(0, 0, 0, 0.3));\n",
              "      fill: #FFFFFF;\n",
              "    }\n",
              "  </style>\n",
              "\n",
              "      <script>\n",
              "        const buttonEl =\n",
              "          document.querySelector('#df-b31c24b9-990c-4cd8-aa28-03f549d2422e button.colab-df-convert');\n",
              "        buttonEl.style.display =\n",
              "          google.colab.kernel.accessAllowed ? 'block' : 'none';\n",
              "\n",
              "        async function convertToInteractive(key) {\n",
              "          const element = document.querySelector('#df-b31c24b9-990c-4cd8-aa28-03f549d2422e');\n",
              "          const dataTable =\n",
              "            await google.colab.kernel.invokeFunction('convertToInteractive',\n",
              "                                                     [key], {});\n",
              "          if (!dataTable) return;\n",
              "\n",
              "          const docLinkHtml = 'Like what you see? Visit the ' +\n",
              "            '<a target=\"_blank\" href=https://colab.research.google.com/notebooks/data_table.ipynb>data table notebook</a>'\n",
              "            + ' to learn more about interactive tables.';\n",
              "          element.innerHTML = '';\n",
              "          dataTable['output_type'] = 'display_data';\n",
              "          await google.colab.output.renderOutput(dataTable, element);\n",
              "          const docLink = document.createElement('div');\n",
              "          docLink.innerHTML = docLinkHtml;\n",
              "          element.appendChild(docLink);\n",
              "        }\n",
              "      </script>\n",
              "    </div>\n",
              "  </div>\n",
              "  "
            ]
          },
          "metadata": {},
          "execution_count": 16
        }
      ],
      "source": [
        "asos_data.describe()"
      ]
    },
    {
      "cell_type": "code",
      "execution_count": 17,
      "metadata": {
        "id": "IFtnuw2yhvRt"
      },
      "outputs": [],
      "source": [
        "ws = asos_data['풍속(m/s)']\n",
        "wd = asos_data['풍향(16방위)']"
      ]
    },
    {
      "cell_type": "code",
      "execution_count": 18,
      "metadata": {
        "colab": {
          "base_uri": "https://localhost:8080/",
          "height": 301
        },
        "id": "bht3OjXohSQa",
        "outputId": "ff2b81d7-e170-4656-b254-7bf45393483e"
      },
      "outputs": [
        {
          "output_type": "execute_result",
          "data": {
            "text/plain": [
              "Text(0, 0.5, 'Wind Velocity [m/s]')"
            ]
          },
          "metadata": {},
          "execution_count": 18
        },
        {
          "output_type": "display_data",
          "data": {
            "text/plain": [
              "<Figure size 432x288 with 2 Axes>"
            ],
            "image/png": "[encoded data removed]"
          },
          "metadata": {
            "needs_background": "light"
          }
        }
      ],
      "source": [
        "import matplotlib.pyplot as plt\n",
        "\n",
        "plt.hist2d(wd, ws, bins=(50,50), vmax=400)\n",
        "plt.colorbar()\n",
        "plt.xlabel('Wind Direction [deg]')\n",
        "plt.ylabel('Wind Velocity [m/s]')"
      ]
    },
    {
      "cell_type": "code",
      "execution_count": 19,
      "metadata": {
        "id": "NT9c5BXecPL4"
      },
      "outputs": [],
      "source": [
        "# 풍속과 풍향을 벡터화하여 표현\n",
        "# 풍향의 0부터 360도를 나타내고 풍속이 없을 때 풍향의 값은 중요하지 않은 것을 표현하기 위하여\n",
        "wv = asos_data.pop('풍속(m/s)')\n",
        "wd_rad = asos_data.pop('풍향(16방위)')*np.pi / 180\n",
        "\n",
        "asos_data['wind_x'] = wv*np.cos(wd_rad)\n",
        "asos_data['wind_y'] = wv*np.sin(wd_rad)"
      ]
    },
    {
      "cell_type": "code",
      "execution_count": 22,
      "metadata": {
        "colab": {
          "base_uri": "https://localhost:8080/",
          "height": 283
        },
        "id": "Fukkfjqrg0bW",
        "outputId": "cbe12200-1ba1-4f37-e89b-11f267ae6d7e"
      },
      "outputs": [
        {
          "output_type": "display_data",
          "data": {
            "text/plain": [
              "<Figure size 432x288 with 2 Axes>"
            ],
            "image/png": "[encoded data removed]"
          },
          "metadata": {
            "needs_background": "light"
          }
        }
      ],
      "source": [
        "# 풍향과 풍속을 vector로 바꾼 후 그래프\n",
        "plt.hist2d(asos_data['wind_x'], asos_data['wind_y'], bins=(50,50), vmax=400)\n",
        "plt.colorbar()\n",
        "plt.xlabel('Wind X [m/s]')\n",
        "plt.ylabel('Wind Y [m/s]')\n",
        "plt.show()"
      ]
    },
    {
      "cell_type": "markdown",
      "metadata": {
        "id": "6WMSwtS9cPL5"
      },
      "source": [
        "###### 전체 데이터 병합"
      ]
    },
    {
      "cell_type": "code",
      "source": [
        "# 접수날짜 to datetime\n",
        "date_data = ['월', '일', '시간', '연도']\n",
        "for d in date_data:\n",
        "  voc_data[d] = voc_data[d].astype(str)\n",
        "\n",
        "  voc_data[d] = voc_data[d].apply(lambda x : x.zfill(2))"
      ],
      "metadata": {
        "id": "2_WZHZ5p-t47"
      },
      "execution_count": 21,
      "outputs": []
    },
    {
      "cell_type": "code",
      "source": [
        "voc_data['date'] = voc_data['연도'] + voc_data['월'] + voc_data['일'] + voc_data['시간'] + '000'\n",
        "voc_data['date'] = pd.to_datetime(voc_data['date'], format = '%Y%m%d%H%M%S').dt.strftime('%Y-%m-%d %H:%M:%S')"
      ],
      "metadata": {
        "id": "r8lYsHb-Fd4A"
      },
      "execution_count": 23,
      "outputs": []
    },
    {
      "cell_type": "code",
      "source": [
        "#변경 후 연도, 월, 일, 시간 제거\n",
        "voc_data.drop(['연도', '월', '일', '시간'], axis = 1, inplace = True)"
      ],
      "metadata": {
        "id": "Ra7rM4ULBh6E"
      },
      "execution_count": 24,
      "outputs": []
    },
    {
      "cell_type": "markdown",
      "source": [
        "#### 기상 데이터 + 대기 질 데이터 + vocs 데이터"
      ],
      "metadata": {
        "id": "3-xeNr0Ua0yl"
      }
    },
    {
      "cell_type": "markdown",
      "source": [
        "##### 1. Air_data date 형식 변환 (%Y-%m-%d %H:%M:%S)"
      ],
      "metadata": {
        "id": "4nbslkrda4F8"
      }
    },
    {
      "cell_type": "code",
      "source": [
        "# 1. air_data date 형식 변환\n",
        "air_data['date'] = air_data['date'].astype(str)\n",
        "\n",
        "air_data['date'][:22632] # %Y%m%d%H 형태\n",
        "air_data['date'][22632:] # %Y-%m-%d %H 형태"
      ],
      "metadata": {
        "colab": {
          "base_uri": "https://localhost:8080/"
        },
        "id": "CH-SBnBwGpCd",
        "outputId": "b08f3acd-90b3-4a30-ccde-6927ca9c8b17"
      },
      "execution_count": 25,
      "outputs": [
        {
          "output_type": "execute_result",
          "data": {
            "text/plain": [
              "22632    2021-08-01:01\n",
              "22633    2021-08-01:02\n",
              "22634    2021-08-01:03\n",
              "22635    2021-08-01:04\n",
              "22636    2021-08-01:05\n",
              "             ...      \n",
              "26299    2021-12-31:20\n",
              "26300    2021-12-31:21\n",
              "26301    2021-12-31:22\n",
              "26302    2021-12-31:23\n",
              "26303    2021-12-31:24\n",
              "Name: date, Length: 3672, dtype: object"
            ]
          },
          "metadata": {},
          "execution_count": 25
        }
      ]
    },
    {
      "cell_type": "code",
      "source": [
        "#air_data(19년부터 21년 7월까지) 시간 01~24에서 00~23으로 변경\n",
        "air_data['date'][:22632] # %Y%m%d%H 형태\n",
        "air_data['date'][:22632] =air_data['date'][:22632].astype(str).str[:8] + air_data['date'][:22632].astype(str).str[8:].astype(int).apply(lambda x : x-1).astype(str).apply(lambda x : x.zfill(2))"
      ],
      "metadata": {
        "id": "Tdg_pMorc25_"
      },
      "execution_count": 26,
      "outputs": []
    },
    {
      "cell_type": "code",
      "source": [
        "air_data['date'][22632:].astype(str).str[11:13].astype(int).apply(lambda x : x-1).astype(str).apply(lambda x : x.zfill(2))"
      ],
      "metadata": {
        "colab": {
          "base_uri": "https://localhost:8080/"
        },
        "id": "0CjZ15D8XloJ",
        "outputId": "5dda13a7-a8c4-467e-9756-92c82199406e"
      },
      "execution_count": 27,
      "outputs": [
        {
          "output_type": "execute_result",
          "data": {
            "text/plain": [
              "22632    00\n",
              "22633    01\n",
              "22634    02\n",
              "22635    03\n",
              "22636    04\n",
              "         ..\n",
              "26299    19\n",
              "26300    20\n",
              "26301    21\n",
              "26302    22\n",
              "26303    23\n",
              "Name: date, Length: 3672, dtype: object"
            ]
          },
          "metadata": {},
          "execution_count": 27
        }
      ]
    },
    {
      "cell_type": "code",
      "source": [
        "air_data['date'][22632:] = air_data['date'][22632:].astype(str).str[:11] + air_data['date'][22632:].astype(str).str[11:13].astype(int).apply(lambda x : x-1 if x!=0 else x == 23).astype(str).apply(lambda x : x.zfill(2))"
      ],
      "metadata": {
        "id": "8w_UX-wpXdUL"
      },
      "execution_count": 28,
      "outputs": []
    },
    {
      "cell_type": "code",
      "source": [
        "air_data['date'][22632:]"
      ],
      "metadata": {
        "colab": {
          "base_uri": "https://localhost:8080/"
        },
        "id": "5LxDpyTzZ5oy",
        "outputId": "ea403fd1-10e2-4394-e8d7-12b398cb369d"
      },
      "execution_count": 29,
      "outputs": [
        {
          "output_type": "execute_result",
          "data": {
            "text/plain": [
              "22632    2021-08-01:00\n",
              "22633    2021-08-01:01\n",
              "22634    2021-08-01:02\n",
              "22635    2021-08-01:03\n",
              "22636    2021-08-01:04\n",
              "             ...      \n",
              "26299    2021-12-31:19\n",
              "26300    2021-12-31:20\n",
              "26301    2021-12-31:21\n",
              "26302    2021-12-31:22\n",
              "26303    2021-12-31:23\n",
              "Name: date, Length: 3672, dtype: object"
            ]
          },
          "metadata": {},
          "execution_count": 29
        }
      ]
    },
    {
      "cell_type": "code",
      "source": [
        "air_data['date']"
      ],
      "metadata": {
        "colab": {
          "base_uri": "https://localhost:8080/"
        },
        "id": "aTmvTIJ_csow",
        "outputId": "a1e22da4-4dc6-4862-e204-d6037770691a"
      },
      "execution_count": 30,
      "outputs": [
        {
          "output_type": "execute_result",
          "data": {
            "text/plain": [
              "0           2019010100\n",
              "1           2019010101\n",
              "2           2019010102\n",
              "3           2019010103\n",
              "4           2019010104\n",
              "             ...      \n",
              "26299    2021-12-31:19\n",
              "26300    2021-12-31:20\n",
              "26301    2021-12-31:21\n",
              "26302    2021-12-31:22\n",
              "26303    2021-12-31:23\n",
              "Name: date, Length: 26304, dtype: object"
            ]
          },
          "metadata": {},
          "execution_count": 30
        }
      ]
    },
    {
      "cell_type": "code",
      "source": [
        "air_data['date'][:22632] = air_data['date'][:22632].apply(lambda x : x + '000')\n",
        "air_data['date'][22632:] = air_data['date'][22632:].apply(lambda x : x + ':00:00')"
      ],
      "metadata": {
        "id": "7s-9S8n4I1rv"
      },
      "execution_count": 31,
      "outputs": []
    },
    {
      "cell_type": "code",
      "source": [
        "air_data['date'][:22632] = pd.to_datetime(air_data['date'][:22632], format = '%Y%m%d%H%M%S').dt.strftime('%Y-%m-%d %H:%M:%S')\n",
        "air_data['date'][22632:] = pd.to_datetime(air_data['date'][22632:], format = '%Y-%m-%d:%H:%M:%S').dt.strftime('%Y-%m-%d %H:%M:%S')"
      ],
      "metadata": {
        "id": "D94qtlQ3GmL7"
      },
      "execution_count": 32,
      "outputs": []
    },
    {
      "cell_type": "code",
      "source": [
        "air_data['date']"
      ],
      "metadata": {
        "colab": {
          "base_uri": "https://localhost:8080/"
        },
        "id": "vvxD6jxQMGjt",
        "outputId": "070cb7f9-029c-4faf-a8a1-18397c69911f"
      },
      "execution_count": 33,
      "outputs": [
        {
          "output_type": "execute_result",
          "data": {
            "text/plain": [
              "0        2019-01-01 00:00:00\n",
              "1        2019-01-01 01:00:00\n",
              "2        2019-01-01 02:00:00\n",
              "3        2019-01-01 03:00:00\n",
              "4        2019-01-01 04:00:00\n",
              "                ...         \n",
              "26299    2021-12-31 19:00:00\n",
              "26300    2021-12-31 20:00:00\n",
              "26301    2021-12-31 21:00:00\n",
              "26302    2021-12-31 22:00:00\n",
              "26303    2021-12-31 23:00:00\n",
              "Name: date, Length: 26304, dtype: object"
            ]
          },
          "metadata": {},
          "execution_count": 33
        }
      ]
    },
    {
      "cell_type": "markdown",
      "source": [
        "##### 2. asos_data(기상 데이터) 기간 2019년부터 2021년까지로 변경"
      ],
      "metadata": {
        "id": "p-vIP0b9bAv4"
      }
    },
    {
      "cell_type": "code",
      "source": [
        "# 일시를 기준으로 정렬 후 인덱스 reset 진행\n",
        "asos_data = asos_data.sort_values(by = '일시')\n",
        "asos_data.reset_index().drop('index', axis = 1, inplace = True)"
      ],
      "metadata": {
        "id": "69ytf9nPauAW"
      },
      "execution_count": 34,
      "outputs": []
    },
    {
      "cell_type": "code",
      "source": [
        "# 2019년부터 2021년으로 변경\n",
        "asos_data = asos_data[26304:].reset_index().drop('index', axis = 1)"
      ],
      "metadata": {
        "id": "d5fmXMGcbyfv"
      },
      "execution_count": 35,
      "outputs": []
    },
    {
      "cell_type": "code",
      "source": [
        "asos_data.rename(columns = {'일시' : 'date'}, inplace = True)\n",
        "asos_data['date'] = asos_data['date'].astype(str)"
      ],
      "metadata": {
        "id": "-FgO1I8zeYNY"
      },
      "execution_count": 36,
      "outputs": []
    },
    {
      "cell_type": "code",
      "source": [
        "voc_data['date']"
      ],
      "metadata": {
        "colab": {
          "base_uri": "https://localhost:8080/"
        },
        "id": "l2cS1iePcWT6",
        "outputId": "56a3ec37-fb4f-4006-c2b5-7c9ff7312701"
      },
      "execution_count": 37,
      "outputs": [
        {
          "output_type": "execute_result",
          "data": {
            "text/plain": [
              "0        2019-01-01 00:00:00\n",
              "1        2019-01-01 01:00:00\n",
              "2        2019-01-01 02:00:00\n",
              "3        2019-01-01 03:00:00\n",
              "4        2019-01-01 04:00:00\n",
              "                ...         \n",
              "26299    2021-12-31 19:00:00\n",
              "26300    2021-12-31 20:00:00\n",
              "26301    2021-12-31 21:00:00\n",
              "26302    2021-12-31 22:00:00\n",
              "26303    2021-12-31 23:00:00\n",
              "Name: date, Length: 26304, dtype: object"
            ]
          },
          "metadata": {},
          "execution_count": 37
        }
      ]
    },
    {
      "cell_type": "code",
      "source": [
        "air_data['date']"
      ],
      "metadata": {
        "colab": {
          "base_uri": "https://localhost:8080/"
        },
        "id": "pYX7nfFlchdb",
        "outputId": "8d96c0a8-f783-456f-91b0-e3426884ade9"
      },
      "execution_count": 38,
      "outputs": [
        {
          "output_type": "execute_result",
          "data": {
            "text/plain": [
              "0        2019-01-01 00:00:00\n",
              "1        2019-01-01 01:00:00\n",
              "2        2019-01-01 02:00:00\n",
              "3        2019-01-01 03:00:00\n",
              "4        2019-01-01 04:00:00\n",
              "                ...         \n",
              "26299    2021-12-31 19:00:00\n",
              "26300    2021-12-31 20:00:00\n",
              "26301    2021-12-31 21:00:00\n",
              "26302    2021-12-31 22:00:00\n",
              "26303    2021-12-31 23:00:00\n",
              "Name: date, Length: 26304, dtype: object"
            ]
          },
          "metadata": {},
          "execution_count": 38
        }
      ]
    },
    {
      "cell_type": "markdown",
      "source": [
        "##### 3. 세 데이터 결합"
      ],
      "metadata": {
        "id": "9S169cIpGX7T"
      }
    },
    {
      "cell_type": "code",
      "execution_count": 116,
      "metadata": {
        "id": "0XSs5j8QcPL5",
        "scrolled": true
      },
      "outputs": [],
      "source": [
        "# 세 데이터를 합치기 위한 merge 이용\n",
        "data_list = [air_data, asos_data, voc_data]\n",
        "\n",
        "final_data = reduce(lambda x, y : pd.merge(x, y, on = 'date'), data_list)"
      ]
    },
    {
      "cell_type": "code",
      "source": [
        "# colab 폰트 문제로 컬럼명 영어로 변경\n",
        "\n",
        "final_data.columns = ['date', 'PM25', 'O3', 'NO2', 'SO2', 'tomm_pm', 'tem', 'rain',\n",
        "       'hum', 'vap_press', 'dew_point', 'press', 'sea_press', 'sunshine',\n",
        "       'solar', 'cloud', 'cloud_mid', 'cloud_low', 'see',\n",
        "       'wind_x', 'wind_y', 'ammonia', 'toluen', 'mp-xylen',\n",
        "       'o-xylen', 'xylen', 'ketone', 'benzene']"
      ],
      "metadata": {
        "id": "4l51dvk1Dy5F"
      },
      "execution_count": 117,
      "outputs": []
    },
    {
      "cell_type": "code",
      "source": [
        "# 다음 날 PM2.5와 vocs의 상관관계\n",
        "voc_pm = final_data[['tomm_pm', 'ammonia', 'toluen', 'mp-xylen', 'o-xylen', 'xylen', 'ketone', 'benzene']].dropna(how = 'any')\n",
        "asos_pm = final_data[['tomm_pm', 'tem', 'rain', 'hum', 'vap_press', 'dew_point', 'press', 'sea_press', 'sunshine',\n",
        "       'solar', 'cloud', 'cloud_mid', 'cloud_low', 'see', 'wind_x', 'wind_y']].dropna(how = 'any')"
      ],
      "metadata": {
        "id": "sjPMeITBEgFV"
      },
      "execution_count": 118,
      "outputs": []
    },
    {
      "cell_type": "code",
      "source": [
        "fig, axes = plt.subplots(nrows=1, ncols=1, sharey=True, figsize=(10,5))\n",
        "heat_map_1 = voc_pm.corr()\n",
        "mask_1 = np.zeros_like(heat_map_1)\n",
        "mask_1[np.triu_indices_from(mask_1)] = True\n",
        "heatmap_ax_1 = sns.heatmap(heat_map_1, annot=True, mask=mask_1, cmap='coolwarm')\n",
        "heatmap_ax_1.set_xticklabels(heatmap_ax_1.get_xticklabels(), fontsize=12, rotation=45)\n",
        "heatmap_ax_1.set_yticklabels(heatmap_ax_1.get_yticklabels(), fontsize=12)\n",
        "plt.show()"
      ],
      "metadata": {
        "colab": {
          "base_uri": "https://localhost:8080/",
          "height": 364
        },
        "id": "5m3gSqrRIHBC",
        "outputId": "1d70a3b5-75a1-4343-ea96-207a7f2d4f1d"
      },
      "execution_count": 119,
      "outputs": [
        {
          "output_type": "display_data",
          "data": {
            "text/plain": [
              "<Figure size 720x360 with 2 Axes>"
            ],
            "image/png": "[encoded data removed]"
          },
          "metadata": {}
        }
      ]
    },
    {
      "cell_type": "code",
      "source": [
        "fig, axes = plt.subplots(nrows=1, ncols=1, sharey=True, figsize=(20,10))\n",
        "heat_map_2 = asos_pm.corr()\n",
        "mask_2 = np.zeros_like(heat_map_2)\n",
        "mask_2[np.triu_indices_from(mask_2)] = True\n",
        "heatmap_ax_2 = sns.heatmap(heat_map_2, annot = True, mask = mask_2, cmap = 'coolwarm')\n",
        "heatmap_ax_2.set_xticklabels(heatmap_ax_2.get_xticklabels(), fontsize=12, rotation=45)\n",
        "heatmap_ax_2.set_yticklabels(heatmap_ax_2.get_yticklabels(), fontsize=12)\n",
        "plt.show()"
      ],
      "metadata": {
        "colab": {
          "base_uri": "https://localhost:8080/",
          "height": 637
        },
        "id": "EussycDxJWPB",
        "outputId": "ca56ae08-bf7b-4843-a303-f4a2f96ab08f"
      },
      "execution_count": 120,
      "outputs": [
        {
          "output_type": "display_data",
          "data": {
            "text/plain": [
              "<Figure size 1440x720 with 2 Axes>"
            ],
            "image/png": "[encoded data removed]"
          },
          "metadata": {}
        }
      ]
    },
    {
      "cell_type": "code",
      "source": [
        "# 절댓값을 취해 연관성이 낮은 순으로 정렬\n",
        "score_corr = pd.DataFrame(abs(final_data.corr()['tomm_pm'])).sort_values(by = 'tomm_pm')\n",
        "\n",
        "# 기존에 알려진 기작과 비교해 연관성이 낮은 것들을 제외하고 모두 제거 \n",
        "# (o-xylen, solar, cloud_low, toluen, sunshine, ketone, see, benzene, mp-xylen), xylen은 결측치가 많은 것을 확인해 제외\n",
        "final_data.drop(['o-xylen', 'solar', 'cloud_low', 'toluen', 'sunshine', 'ketone', 'see', 'benzene', 'mp-xylen', 'xylen'], axis = 1, inplace = True)\n",
        "final_data.columns"
      ],
      "metadata": {
        "colab": {
          "base_uri": "https://localhost:8080/"
        },
        "id": "h3qVRUPEKbC8",
        "outputId": "a54b7279-a694-46b4-ad6f-9eee5cb8538d"
      },
      "execution_count": 121,
      "outputs": [
        {
          "output_type": "execute_result",
          "data": {
            "text/plain": [
              "Index(['date', 'PM25', 'O3', 'NO2', 'SO2', 'tomm_pm', 'tem', 'rain', 'hum',\n",
              "       'vap_press', 'dew_point', 'press', 'sea_press', 'cloud', 'cloud_mid',\n",
              "       'wind_x', 'wind_y', 'ammonia'],\n",
              "      dtype='object')"
            ]
          },
          "metadata": {},
          "execution_count": 121
        }
      ]
    },
    {
      "cell_type": "code",
      "source": [
        "graph_data = final_data.copy()\n",
        "graph_data.set_index('date', inplace = True)\n",
        "graph_data_1 = abs(graph_data.corr()['tomm_pm']).sort_values(ascending = False)"
      ],
      "metadata": {
        "id": "sUEsYxBwLgmS"
      },
      "execution_count": 122,
      "outputs": []
    },
    {
      "cell_type": "code",
      "execution_count": 123,
      "metadata": {
        "colab": {
          "base_uri": "https://localhost:8080/",
          "height": 358
        },
        "id": "r_ynFDnzRdTn",
        "outputId": "c48aa87d-3287-4ab6-de4e-0ace2d15beae"
      },
      "outputs": [
        {
          "output_type": "display_data",
          "data": {
            "text/plain": [
              "<Figure size 864x360 with 1 Axes>"
            ],
            "image/png": "[encoded data removed]"
          },
          "metadata": {}
        }
      ],
      "source": [
        "import seaborn as sns\n",
        "plt.figure(figsize=(12,5))\n",
        "sns.set(font_scale=1.1)\n",
        "sns.set_style('whitegrid')\n",
        "plt.xlabel('PCC(Pearson Correlation Coefficient)')\n",
        "plt.ylabel('Variables')\n",
        "plt.title('(a) Pearson correlation graph of the urban area',\n",
        "          position = (0.235, 1.01))\n",
        "sns.barplot(data = pd.DataFrame(graph_data_1).T, orient='h', palette = 'crest')\n",
        "plt.show()"
      ]
    },
    {
      "cell_type": "markdown",
      "metadata": {
        "id": "1KBHb0KQcPL9"
      },
      "source": [
        "###### DATA"
      ]
    },
    {
      "cell_type": "code",
      "source": [
        "final_data"
      ],
      "metadata": {
        "colab": {
          "base_uri": "https://localhost:8080/",
          "height": 424
        },
        "id": "oe6Y6mHWMg_o",
        "outputId": "e87049f7-b37a-42ca-b5dc-20f9da99a9bb"
      },
      "execution_count": 124,
      "outputs": [
        {
          "output_type": "execute_result",
          "data": {
            "text/plain": [
              "                      date  PM25     O3    NO2    SO2  tomm_pm  tem  rain  \\\n",
              "0      2019-01-01 00:00:00  23.0  0.010  0.025  0.003     22.0  2.1   0.0   \n",
              "1      2019-01-01 01:00:00  21.0  0.012  0.021  0.003     27.0  1.0   0.0   \n",
              "2      2019-01-01 02:00:00  19.0  0.012  0.021  0.003     21.0 -0.1   0.0   \n",
              "3      2019-01-01 03:00:00  24.0  0.011  0.021  0.003     15.0 -0.9   0.0   \n",
              "4      2019-01-01 04:00:00  28.0  0.013  0.022  0.003     15.0 -1.2   0.0   \n",
              "...                    ...   ...    ...    ...    ...      ...  ...   ...   \n",
              "26269  2021-12-31 19:00:00   NaN  0.026  0.013  0.002      NaN  0.5   0.0   \n",
              "26270  2021-12-31 20:00:00   NaN  0.030  0.011  0.001      NaN  0.0   0.0   \n",
              "26271  2021-12-31 21:00:00   NaN  0.029  0.011  0.001      NaN -0.4   0.0   \n",
              "26272  2021-12-31 22:00:00   NaN  0.032  0.009  0.001      NaN -0.8   0.0   \n",
              "26273  2021-12-31 23:00:00   NaN  0.031  0.009  0.001      NaN -1.3   0.0   \n",
              "\n",
              "        hum  vap_press  dew_point   press  sea_press  cloud  cloud_mid  \\\n",
              "0      25.0        1.8      -15.9  1022.5     1031.3    3.0        3.0   \n",
              "1      25.0        1.6      -16.8  1022.8     1031.7    0.0        0.0   \n",
              "2      26.0        1.6      -17.3  1022.3     1031.2    0.0        0.0   \n",
              "3      28.0        1.6      -17.1  1022.5     1031.4    0.0        0.0   \n",
              "4      31.0        1.7      -16.2  1022.2     1031.1    0.0        0.0   \n",
              "...     ...        ...        ...     ...        ...    ...        ...   \n",
              "26269  22.0        1.4      -18.8  1019.1     1028.0    0.0        0.0   \n",
              "26270  22.0        1.3      -19.2  1019.1     1028.0    0.0        0.0   \n",
              "26271  23.0        1.4      -19.0  1018.7     1027.6    0.0        0.0   \n",
              "26272  23.0        1.3      -19.4  1019.5     1028.4    0.0        0.0   \n",
              "26273  22.0        1.2      -20.3  1019.7     1028.6    7.0        0.0   \n",
              "\n",
              "         wind_x    wind_y  ammonia  \n",
              "0      1.778505 -4.886402   76.100  \n",
              "1      1.641697 -4.510525   72.500  \n",
              "2      3.753618 -3.149659   70.100  \n",
              "3      3.476863 -1.265475   67.500  \n",
              "4      4.416555 -1.607495   68.800  \n",
              "...         ...       ...      ...  \n",
              "26269  1.532089 -1.285575   11.157  \n",
              "26270  1.685298 -1.414133   11.448  \n",
              "26271  1.402283 -3.852740   10.654  \n",
              "26272 -1.094464 -3.007016   10.940  \n",
              "26273  3.370596 -2.828265   10.182  \n",
              "\n",
              "[26274 rows x 18 columns]"
            ],
            "text/html": [
              "\n",
              "  <div id=\"df-286c27fa-965d-4b74-b30b-085764310822\">\n",
              "    <div class=\"colab-df-container\">\n",
              "      <div>\n",
              "<style scoped>\n",
              "    .dataframe tbody tr th:only-of-type {\n",
              "        vertical-align: middle;\n",
              "    }\n",
              "\n",
              "    .dataframe tbody tr th {\n",
              "        vertical-align: top;\n",
              "    }\n",
              "\n",
              "    .dataframe thead th {\n",
              "        text-align: right;\n",
              "    }\n",
              "</style>\n",
              "<table border=\"1\" class=\"dataframe\">\n",
              "  <thead>\n",
              "    <tr style=\"text-align: right;\">\n",
              "      <th></th>\n",
              "      <th>date</th>\n",
              "      <th>PM25</th>\n",
              "      <th>O3</th>\n",
              "      <th>NO2</th>\n",
              "      <th>SO2</th>\n",
              "      <th>tomm_pm</th>\n",
              "      <th>tem</th>\n",
              "      <th>rain</th>\n",
              "      <th>hum</th>\n",
              "      <th>vap_press</th>\n",
              "      <th>dew_point</th>\n",
              "      <th>press</th>\n",
              "      <th>sea_press</th>\n",
              "      <th>cloud</th>\n",
              "      <th>cloud_mid</th>\n",
              "      <th>wind_x</th>\n",
              "      <th>wind_y</th>\n",
              "      <th>ammonia</th>\n",
              "    </tr>\n",
              "  </thead>\n",
              "  <tbody>\n",
              "    <tr>\n",
              "      <th>0</th>\n",
              "      <td>2019-01-01 00:00:00</td>\n",
              "      <td>23.0</td>\n",
              "      <td>0.010</td>\n",
              "      <td>0.025</td>\n",
              "      <td>0.003</td>\n",
              "      <td>22.0</td>\n",
              "      <td>2.1</td>\n",
              "      <td>0.0</td>\n",
              "      <td>25.0</td>\n",
              "      <td>1.8</td>\n",
              "      <td>-15.9</td>\n",
              "      <td>1022.5</td>\n",
              "      <td>1031.3</td>\n",
              "      <td>3.0</td>\n",
              "      <td>3.0</td>\n",
              "      <td>1.778505</td>\n",
              "      <td>-4.886402</td>\n",
              "      <td>76.100</td>\n",
              "    </tr>\n",
              "    <tr>\n",
              "      <th>1</th>\n",
              "      <td>2019-01-01 01:00:00</td>\n",
              "      <td>21.0</td>\n",
              "      <td>0.012</td>\n",
              "      <td>0.021</td>\n",
              "      <td>0.003</td>\n",
              "      <td>27.0</td>\n",
              "      <td>1.0</td>\n",
              "      <td>0.0</td>\n",
              "      <td>25.0</td>\n",
              "      <td>1.6</td>\n",
              "      <td>-16.8</td>\n",
              "      <td>1022.8</td>\n",
              "      <td>1031.7</td>\n",
              "      <td>0.0</td>\n",
              "      <td>0.0</td>\n",
              "      <td>1.641697</td>\n",
              "      <td>-4.510525</td>\n",
              "      <td>72.500</td>\n",
              "    </tr>\n",
              "    <tr>\n",
              "      <th>2</th>\n",
              "      <td>2019-01-01 02:00:00</td>\n",
              "      <td>19.0</td>\n",
              "      <td>0.012</td>\n",
              "      <td>0.021</td>\n",
              "      <td>0.003</td>\n",
              "      <td>21.0</td>\n",
              "      <td>-0.1</td>\n",
              "      <td>0.0</td>\n",
              "      <td>26.0</td>\n",
              "      <td>1.6</td>\n",
              "      <td>-17.3</td>\n",
              "      <td>1022.3</td>\n",
              "      <td>1031.2</td>\n",
              "      <td>0.0</td>\n",
              "      <td>0.0</td>\n",
              "      <td>3.753618</td>\n",
              "      <td>-3.149659</td>\n",
              "      <td>70.100</td>\n",
              "    </tr>\n",
              "    <tr>\n",
              "      <th>3</th>\n",
              "      <td>2019-01-01 03:00:00</td>\n",
              "      <td>24.0</td>\n",
              "      <td>0.011</td>\n",
              "      <td>0.021</td>\n",
              "      <td>0.003</td>\n",
              "      <td>15.0</td>\n",
              "      <td>-0.9</td>\n",
              "      <td>0.0</td>\n",
              "      <td>28.0</td>\n",
              "      <td>1.6</td>\n",
              "      <td>-17.1</td>\n",
              "      <td>1022.5</td>\n",
              "      <td>1031.4</td>\n",
              "      <td>0.0</td>\n",
              "      <td>0.0</td>\n",
              "      <td>3.476863</td>\n",
              "      <td>-1.265475</td>\n",
              "      <td>67.500</td>\n",
              "    </tr>\n",
              "    <tr>\n",
              "      <th>4</th>\n",
              "      <td>2019-01-01 04:00:00</td>\n",
              "      <td>28.0</td>\n",
              "      <td>0.013</td>\n",
              "      <td>0.022</td>\n",
              "      <td>0.003</td>\n",
              "      <td>15.0</td>\n",
              "      <td>-1.2</td>\n",
              "      <td>0.0</td>\n",
              "      <td>31.0</td>\n",
              "      <td>1.7</td>\n",
              "      <td>-16.2</td>\n",
              "      <td>1022.2</td>\n",
              "      <td>1031.1</td>\n",
              "      <td>0.0</td>\n",
              "      <td>0.0</td>\n",
              "      <td>4.416555</td>\n",
              "      <td>-1.607495</td>\n",
              "      <td>68.800</td>\n",
              "    </tr>\n",
              "    <tr>\n",
              "      <th>...</th>\n",
              "      <td>...</td>\n",
              "      <td>...</td>\n",
              "      <td>...</td>\n",
              "      <td>...</td>\n",
              "      <td>...</td>\n",
              "      <td>...</td>\n",
              "      <td>...</td>\n",
              "      <td>...</td>\n",
              "      <td>...</td>\n",
              "      <td>...</td>\n",
              "      <td>...</td>\n",
              "      <td>...</td>\n",
              "      <td>...</td>\n",
              "      <td>...</td>\n",
              "      <td>...</td>\n",
              "      <td>...</td>\n",
              "      <td>...</td>\n",
              "      <td>...</td>\n",
              "    </tr>\n",
              "    <tr>\n",
              "      <th>26269</th>\n",
              "      <td>2021-12-31 19:00:00</td>\n",
              "      <td>NaN</td>\n",
              "      <td>0.026</td>\n",
              "      <td>0.013</td>\n",
              "      <td>0.002</td>\n",
              "      <td>NaN</td>\n",
              "      <td>0.5</td>\n",
              "      <td>0.0</td>\n",
              "      <td>22.0</td>\n",
              "      <td>1.4</td>\n",
              "      <td>-18.8</td>\n",
              "      <td>1019.1</td>\n",
              "      <td>1028.0</td>\n",
              "      <td>0.0</td>\n",
              "      <td>0.0</td>\n",
              "      <td>1.532089</td>\n",
              "      <td>-1.285575</td>\n",
              "      <td>11.157</td>\n",
              "    </tr>\n",
              "    <tr>\n",
              "      <th>26270</th>\n",
              "      <td>2021-12-31 20:00:00</td>\n",
              "      <td>NaN</td>\n",
              "      <td>0.030</td>\n",
              "      <td>0.011</td>\n",
              "      <td>0.001</td>\n",
              "      <td>NaN</td>\n",
              "      <td>0.0</td>\n",
              "      <td>0.0</td>\n",
              "      <td>22.0</td>\n",
              "      <td>1.3</td>\n",
              "      <td>-19.2</td>\n",
              "      <td>1019.1</td>\n",
              "      <td>1028.0</td>\n",
              "      <td>0.0</td>\n",
              "      <td>0.0</td>\n",
              "      <td>1.685298</td>\n",
              "      <td>-1.414133</td>\n",
              "      <td>11.448</td>\n",
              "    </tr>\n",
              "    <tr>\n",
              "      <th>26271</th>\n",
              "      <td>2021-12-31 21:00:00</td>\n",
              "      <td>NaN</td>\n",
              "      <td>0.029</td>\n",
              "      <td>0.011</td>\n",
              "      <td>0.001</td>\n",
              "      <td>NaN</td>\n",
              "      <td>-0.4</td>\n",
              "      <td>0.0</td>\n",
              "      <td>23.0</td>\n",
              "      <td>1.4</td>\n",
              "      <td>-19.0</td>\n",
              "      <td>1018.7</td>\n",
              "      <td>1027.6</td>\n",
              "      <td>0.0</td>\n",
              "      <td>0.0</td>\n",
              "      <td>1.402283</td>\n",
              "      <td>-3.852740</td>\n",
              "      <td>10.654</td>\n",
              "    </tr>\n",
              "    <tr>\n",
              "      <th>26272</th>\n",
              "      <td>2021-12-31 22:00:00</td>\n",
              "      <td>NaN</td>\n",
              "      <td>0.032</td>\n",
              "      <td>0.009</td>\n",
              "      <td>0.001</td>\n",
              "      <td>NaN</td>\n",
              "      <td>-0.8</td>\n",
              "      <td>0.0</td>\n",
              "      <td>23.0</td>\n",
              "      <td>1.3</td>\n",
              "      <td>-19.4</td>\n",
              "      <td>1019.5</td>\n",
              "      <td>1028.4</td>\n",
              "      <td>0.0</td>\n",
              "      <td>0.0</td>\n",
              "      <td>-1.094464</td>\n",
              "      <td>-3.007016</td>\n",
              "      <td>10.940</td>\n",
              "    </tr>\n",
              "    <tr>\n",
              "      <th>26273</th>\n",
              "      <td>2021-12-31 23:00:00</td>\n",
              "      <td>NaN</td>\n",
              "      <td>0.031</td>\n",
              "      <td>0.009</td>\n",
              "      <td>0.001</td>\n",
              "      <td>NaN</td>\n",
              "      <td>-1.3</td>\n",
              "      <td>0.0</td>\n",
              "      <td>22.0</td>\n",
              "      <td>1.2</td>\n",
              "      <td>-20.3</td>\n",
              "      <td>1019.7</td>\n",
              "      <td>1028.6</td>\n",
              "      <td>7.0</td>\n",
              "      <td>0.0</td>\n",
              "      <td>3.370596</td>\n",
              "      <td>-2.828265</td>\n",
              "      <td>10.182</td>\n",
              "    </tr>\n",
              "  </tbody>\n",
              "</table>\n",
              "<p>26274 rows × 18 columns</p>\n",
              "</div>\n",
              "      <button class=\"colab-df-convert\" onclick=\"convertToInteractive('df-286c27fa-965d-4b74-b30b-085764310822')\"\n",
              "              title=\"Convert this dataframe to an interactive table.\"\n",
              "              style=\"display:none;\">\n",
              "        \n",
              "  <svg xmlns=\"http://www.w3.org/2000/svg\" height=\"24px\"viewBox=\"0 0 24 24\"\n",
              "       width=\"24px\">\n",
              "    <path d=\"M0 0h24v24H0V0z\" fill=\"none\"/>\n",
              "    <path d=\"M18.56 5.44l.94 2.06.94-2.06 2.06-.94-2.06-.94-.94-2.06-.94 2.06-2.06.94zm-11 1L8.5 8.5l.94-2.06 2.06-.94-2.06-.94L8.5 2.5l-.94 2.06-2.06.94zm10 10l.94 2.06.94-2.06 2.06-.94-2.06-.94-.94-2.06-.94 2.06-2.06.94z\"/><path d=\"M17.41 7.96l-1.37-1.37c-.4-.4-.92-.59-1.43-.59-.52 0-1.04.2-1.43.59L10.3 9.45l-7.72 7.72c-.78.78-.78 2.05 0 2.83L4 21.41c.39.39.9.59 1.41.59.51 0 1.02-.2 1.41-.59l7.78-7.78 2.81-2.81c.8-.78.8-2.07 0-2.86zM5.41 20L4 18.59l7.72-7.72 1.47 1.35L5.41 20z\"/>\n",
              "  </svg>\n",
              "      </button>\n",
              "      \n",
              "  <style>\n",
              "    .colab-df-container {\n",
              "      display:flex;\n",
              "      flex-wrap:wrap;\n",
              "      gap: 12px;\n",
              "    }\n",
              "\n",
              "    .colab-df-convert {\n",
              "      background-color: #E8F0FE;\n",
              "      border: none;\n",
              "      border-radius: 50%;\n",
              "      cursor: pointer;\n",
              "      display: none;\n",
              "      fill: #1967D2;\n",
              "      height: 32px;\n",
              "      padding: 0 0 0 0;\n",
              "      width: 32px;\n",
              "    }\n",
              "\n",
              "    .colab-df-convert:hover {\n",
              "      background-color: #E2EBFA;\n",
              "      box-shadow: 0px 1px 2px rgba(60, 64, 67, 0.3), 0px 1px 3px 1px rgba(60, 64, 67, 0.15);\n",
              "      fill: #174EA6;\n",
              "    }\n",
              "\n",
              "    [theme=dark] .colab-df-convert {\n",
              "      background-color: #3B4455;\n",
              "      fill: #D2E3FC;\n",
              "    }\n",
              "\n",
              "    [theme=dark] .colab-df-convert:hover {\n",
              "      background-color: #434B5C;\n",
              "      box-shadow: 0px 1px 3px 1px rgba(0, 0, 0, 0.15);\n",
              "      filter: drop-shadow(0px 1px 2px rgba(0, 0, 0, 0.3));\n",
              "      fill: #FFFFFF;\n",
              "    }\n",
              "  </style>\n",
              "\n",
              "      <script>\n",
              "        const buttonEl =\n",
              "          document.querySelector('#df-286c27fa-965d-4b74-b30b-085764310822 button.colab-df-convert');\n",
              "        buttonEl.style.display =\n",
              "          google.colab.kernel.accessAllowed ? 'block' : 'none';\n",
              "\n",
              "        async function convertToInteractive(key) {\n",
              "          const element = document.querySelector('#df-286c27fa-965d-4b74-b30b-085764310822');\n",
              "          const dataTable =\n",
              "            await google.colab.kernel.invokeFunction('convertToInteractive',\n",
              "                                                     [key], {});\n",
              "          if (!dataTable) return;\n",
              "\n",
              "          const docLinkHtml = 'Like what you see? Visit the ' +\n",
              "            '<a target=\"_blank\" href=https://colab.research.google.com/notebooks/data_table.ipynb>data table notebook</a>'\n",
              "            + ' to learn more about interactive tables.';\n",
              "          element.innerHTML = '';\n",
              "          dataTable['output_type'] = 'display_data';\n",
              "          await google.colab.output.renderOutput(dataTable, element);\n",
              "          const docLink = document.createElement('div');\n",
              "          docLink.innerHTML = docLinkHtml;\n",
              "          element.appendChild(docLink);\n",
              "        }\n",
              "      </script>\n",
              "    </div>\n",
              "  </div>\n",
              "  "
            ]
          },
          "metadata": {},
          "execution_count": 124
        }
      ]
    },
    {
      "cell_type": "code",
      "execution_count": 125,
      "metadata": {
        "id": "5FhRTw0UcPL-",
        "scrolled": true
      },
      "outputs": [],
      "source": [
        "# 결측치 확인 -> interpolate linear를 이용해 결측치 보간\n",
        "final_data.isnull().sum()\n",
        "# 결측치 보간 -> interpolate, linear 이용\n",
        "final_data = final_data.interpolate(how = 'linear')"
      ]
    },
    {
      "cell_type": "code",
      "source": [
        "# 보간 후 결측치 확인\n",
        "final_data.isnull().sum().sum()"
      ],
      "metadata": {
        "colab": {
          "base_uri": "https://localhost:8080/"
        },
        "id": "tuZuhdslNqYp",
        "outputId": "bf881998-9a12-4594-d520-5144efb7b25f"
      },
      "execution_count": 126,
      "outputs": [
        {
          "output_type": "execute_result",
          "data": {
            "text/plain": [
              "0"
            ]
          },
          "metadata": {},
          "execution_count": 126
        }
      ]
    },
    {
      "cell_type": "code",
      "source": [
        "#연월일시간의 단위는 의미있는 역할 x -> 초 단위로 변환\n",
        "timestamp_s = pd.to_datetime(final_data['date']).map(pd.Timestamp.timestamp)\n",
        "\n",
        "day = 24*60*60\n",
        "year = (365.2425)*day\n",
        "\n",
        "# 사인 및 코사인 변환을 사용하여 시간, 시간신호를 지우기 -> 사용 가능한 신호로 변환\n",
        "final_data['Day sin'] = np.sin(timestamp_s * (2 * np.pi / day))\n",
        "final_data['Day cos'] = np.cos(timestamp_s * (2 * np.pi / day))\n",
        "final_data['Year sin'] = np.sin(timestamp_s * (2 * np.pi / year))\n",
        "final_data['Year cos'] = np.cos(timestamp_s * (2 * np.pi / year))"
      ],
      "metadata": {
        "id": "sAq-gWkkQqts"
      },
      "execution_count": 137,
      "outputs": []
    },
    {
      "cell_type": "code",
      "source": [
        "plt.plot(np.array(final_data['Day sin'])[:25])\n",
        "plt.plot(np.array(final_data['Day cos'])[:25])\n",
        "plt.xlabel('Time [h]')\n",
        "plt.title('Time of day signal')\n",
        "plt.show()"
      ],
      "metadata": {
        "colab": {
          "base_uri": "https://localhost:8080/",
          "height": 304
        },
        "id": "-fEXbYLBRGNN",
        "outputId": "8a9c5dc0-dbc2-4757-c07f-585ef540094a"
      },
      "execution_count": 144,
      "outputs": [
        {
          "output_type": "display_data",
          "data": {
            "text/plain": [
              "<Figure size 432x288 with 1 Axes>"
            ],
            "image/png": "[encoded data removed]"
          },
          "metadata": {}
        }
      ]
    },
    {
      "cell_type": "code",
      "source": [
        "# 시간 경과에 따른 온도의 tf.signal.rfft \n",
        "# 1/year 및 1/day에 가까운 빈도에서 명백한 피크가 있다는 점을 확인 가능\n",
        "fft = tf.signal.rfft(final_data['tem'])\n",
        "f_per_dataset = np.arange(0, len(fft))\n",
        "\n",
        "n_samples_h = len(final_data['tem'])\n",
        "hours_per_year = 24*365.2524\n",
        "years_per_dataset = n_samples_h/(hours_per_year)\n",
        "\n",
        "f_per_year = f_per_dataset/years_per_dataset\n",
        "plt.step(f_per_year, np.abs(fft))\n",
        "plt.xscale('log')\n",
        "plt.ylim(0, 400000)\n",
        "plt.xlim([0.1, max(plt.xlim())])\n",
        "plt.xticks([1, 365.2524], labels=['1/Year', '1/day'])\n",
        "_ = plt.xlabel('Frequency (log scale)')"
      ],
      "metadata": {
        "colab": {
          "base_uri": "https://localhost:8080/",
          "height": 293
        },
        "id": "8BCjzxMMRQEe",
        "outputId": "89fd0614-e01d-41cf-de4d-fe5d4a6e9661"
      },
      "execution_count": 147,
      "outputs": [
        {
          "output_type": "display_data",
          "data": {
            "text/plain": [
              "<Figure size 432x288 with 1 Axes>"
            ],
            "image/png": "[encoded data removed]"
          },
          "metadata": {}
        }
      ]
    },
    {
      "cell_type": "code",
      "source": [
        "# Train, Vlidation, test set\n",
        "final_data = final_data.reset_index().drop('index', axis = 1)\n",
        "\n",
        "air_train = final_data[final_data['date'].astype(str).str[:4] == '2019']\n",
        "air_valid = final_data[final_data['date'].astype(str).str[:4] == '2020']\n",
        "air_test = final_data[final_data['date'].astype(str).str[:4] == '2021']\n",
        "\n",
        "print(air_train.shape, air_valid.shape, air_test.shape)"
      ],
      "metadata": {
        "colab": {
          "base_uri": "https://localhost:8080/"
        },
        "id": "C5HyGTTDNNwb",
        "outputId": "f223949c-c528-450c-a778-291a6acc31d1"
      },
      "execution_count": 148,
      "outputs": [
        {
          "output_type": "stream",
          "name": "stdout",
          "text": [
            "(8730, 22) (8784, 22) (8760, 22)\n"
          ]
        }
      ]
    },
    {
      "cell_type": "code",
      "execution_count": 149,
      "metadata": {
        "id": "X9ze6x04cPL_"
      },
      "outputs": [],
      "source": [
        "#outlier 구하는 식\n",
        "# 1) 신뢰구간 이용\n",
        "def outlier(df, col, z):\n",
        "    return df[abs(df[col] - np.mean(df[col]))/np.std(df[col])>z].index\n",
        "# 2) IQR (25% 에서 75% 사이의 값 이용하기)\n",
        "def get_outlier(df=None, column=None, weight = 1.5):\n",
        "    quantile_25 = np.percentile(df[column].values, 25)\n",
        "    quantile_75 = np.percentile(df[column].values, 75)\n",
        "    \n",
        "    IQR = quantile_75 - quantile_25\n",
        "    IQR_weight = IQR*weight\n",
        "    \n",
        "    lowest = quantile_25 - IQR_weight\n",
        "    highest = quantile_75 + IQR_weight\n",
        "    \n",
        "    outlier_idx = df[column][(df[column] < lowest) | (df[column] > highest)].index\n",
        "    return outlier_idx\n",
        "\n",
        "# !!!! outlier 구할 때 해당 column에 빈 값이 있으면 결과가 나오지 않음 dropna 이후에 진행하기."
      ]
    },
    {
      "cell_type": "code",
      "source": [
        "# outlier는 딥러닝에서 보통 제거 하지 x\n",
        "# 그래서 clip으로 값을 대체하기로 함\n",
        "def outlier_clipping(df):\n",
        "  for col in df.columns:\n",
        "\n",
        "    q1 = df[col].quantile(0.25)\n",
        "    q3 = df[col].quantile(0.75)\n",
        "\n",
        "    iqr = q3-q1\n",
        "\n",
        "    low_limit = q3 + 1.5 * iqr\n",
        "    high_limit = q1 - 1.5 * iqr\n",
        "\n",
        "    df[f'{col}_outlier'] = df[col].apply(outlier, args = (low_limit, high_limit))\n",
        "  return df"
      ],
      "metadata": {
        "id": "hGsk_Yr4OYCV"
      },
      "execution_count": 150,
      "outputs": []
    },
    {
      "cell_type": "code",
      "execution_count": 151,
      "metadata": {
        "id": "hDCnsTM2cPMA"
      },
      "outputs": [],
      "source": [
        "# outlier_IQR = get_outlier(df = air_test, column='PM25', weight=1.5)\n",
        "# len(outlier_IQR)\n",
        "\n",
        "# air_test = air_test.drop(outlier_IQR)\n",
        "# air_test = air_test.reset_index()\n",
        "# air_test = air_test.drop('index', axis=1)"
      ]
    },
    {
      "cell_type": "code",
      "source": [
        "air_train.columns"
      ],
      "metadata": {
        "colab": {
          "base_uri": "https://localhost:8080/"
        },
        "id": "vPGazrSAR5Op",
        "outputId": "bd5cf792-563d-4bfe-fcfc-8db22ed51833"
      },
      "execution_count": 152,
      "outputs": [
        {
          "output_type": "execute_result",
          "data": {
            "text/plain": [
              "Index(['date', 'PM25', 'O3', 'NO2', 'SO2', 'tomm_pm', 'tem', 'rain', 'hum',\n",
              "       'vap_press', 'dew_point', 'press', 'sea_press', 'cloud', 'cloud_mid',\n",
              "       'wind_x', 'wind_y', 'ammonia', 'Day sin', 'Day cos', 'Year sin',\n",
              "       'Year cos'],\n",
              "      dtype='object')"
            ]
          },
          "metadata": {},
          "execution_count": 152
        }
      ]
    },
    {
      "cell_type": "code",
      "execution_count": 153,
      "metadata": {
        "id": "PysWeWUGcPMB"
      },
      "outputs": [],
      "source": [
        "dnn_x_train = air_train.drop(['date', 'tomm_pm'], axis = 1)\n",
        "dnn_y_train = air_train[['PM25']]\n",
        "\n",
        "dnn_x_valid = air_valid.drop(['date', 'tomm_pm'], axis = 1)\n",
        "dnn_y_valid = air_valid[['PM25']]\n",
        "\n",
        "dnn_x_test = air_test.drop(['date', 'tomm_pm'], axis = 1)\n",
        "dnn_y_test = air_test[['PM25']]"
      ]
    },
    {
      "cell_type": "code",
      "execution_count": 154,
      "metadata": {
        "id": "-Ul88XGacPMB",
        "scrolled": true
      },
      "outputs": [],
      "source": [
        "#StandardScaler & MinMaxScaler\n",
        "from sklearn.preprocessing import MinMaxScaler\n",
        "from sklearn.preprocessing import StandardScaler\n",
        "\n",
        "scaler = StandardScaler() \n",
        "\n",
        "scaler.fit(dnn_x_train)\n",
        "\n",
        "train_scaled = pd.DataFrame(scaler.transform(dnn_x_train))\n",
        "valid_scaled = pd.DataFrame(scaler.transform(dnn_x_valid))\n",
        "test_scaled = pd.DataFrame(scaler.transform(dnn_x_test))"
      ]
    },
    {
      "cell_type": "code",
      "source": [
        "train_scaled.shape, valid_scaled.shape, test_scaled.shape"
      ],
      "metadata": {
        "id": "ry3wxBXCgvHH",
        "colab": {
          "base_uri": "https://localhost:8080/"
        },
        "outputId": "9e2ed5d7-7db1-41db-d80d-ca0827f23e91"
      },
      "execution_count": 156,
      "outputs": [
        {
          "output_type": "execute_result",
          "data": {
            "text/plain": [
              "((8730, 20), (8784, 20), (8760, 20))"
            ]
          },
          "metadata": {},
          "execution_count": 156
        }
      ]
    }
  ]
}